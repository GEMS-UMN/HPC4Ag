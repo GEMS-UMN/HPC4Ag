{
 "cells": [
  {
   "cell_type": "markdown",
   "id": "distributed-roller",
   "metadata": {},
   "source": [
    "# Objective: Understand interconversion of data structures and their caveats\n",
    "\n",
    "In this notebook, you will see a very simple example of a pandas dataframe, how you can convert subsets to arrays, lists and sets. You will learn first hand that they all have different strengths and purposes."
   ]
  },
  {
   "cell_type": "code",
   "execution_count": 1,
   "id": "sustained-boxing",
   "metadata": {},
   "outputs": [],
   "source": [
    "import pandas as pd\n",
    "import numpy as np\n",
    "import requests as r\n",
    "from io import StringIO"
   ]
  },
  {
   "cell_type": "markdown",
   "id": "indonesian-finish",
   "metadata": {},
   "source": [
    "### First define a function that will allow us to pull data from Tier 2 storage (S3)"
   ]
  },
  {
   "cell_type": "code",
   "execution_count": 2,
   "id": "whole-aluminum",
   "metadata": {},
   "outputs": [],
   "source": [
    "def load_s3_csv(url: str) -> pd.DataFrame:\n",
    "    \"\"\"Utility to load S3 csvs into pandas DataFrames.\n",
    "\n",
    "    Args:\n",
    "        url (str): S3 url (https)\n",
    "\n",
    "    Returns:\n",
    "        pd.DataFrame: containing csv at provided url.\n",
    "    \"\"\"\n",
    "    # using this to get around pandas ssl error when reading url directly\n",
    "    res = r.get(url)\n",
    "    assert res.status_code == 200, f'Failed to read {url}'\n",
    "    csv_str = res.text\n",
    "    df = pd.read_csv(StringIO(csv_str))\n",
    "    return df\n"
   ]
  },
  {
   "cell_type": "markdown",
   "id": "similar-bahamas",
   "metadata": {},
   "source": [
    "### Now grab some barley field trial data"
   ]
  },
  {
   "cell_type": "code",
   "execution_count": 3,
   "id": "strange-mozambique",
   "metadata": {},
   "outputs": [],
   "source": [
    "trial_data_url = 'https://s3.msi.umn.edu/gems-pyenvirotyping-test-files/barley_trial_data.csv'"
   ]
  },
  {
   "cell_type": "code",
   "execution_count": 4,
   "id": "explicit-runner",
   "metadata": {},
   "outputs": [],
   "source": [
    "trial_data = load_s3_csv(trial_data_url)\n",
    "trial_metadata = pd.DataFrame({\n",
    "    'trial': ['2015_SPY4_S2TP_CR15', 'S2_MET_AWI16', 'S2_MET_CRM16'],\n",
    "    'location': ['Crookston', 'Arlington', 'Crookston'],\n",
    "    'year': [2015, 2016, 2016],\n",
    "    'environment': ['CRM15', 'AWI16', 'CRM16'],\n",
    "    'type': ['spy', 'spy', 'spy'],\n",
    "    'population': ['s2tp', 's2met', 's2met'],\n",
    "    'project1': ['Breeding', 'Breeding', 'Breeding'],\n",
    "    'project2': ['S2MET', 'S2MET', 'S2MET'],\n",
    "    'project3': [None, None, None],\n",
    "    'planting_date': [20150416, 20160425, 20160504],\n",
    "    'harvest_date': [20150831, 20160831, 20160831],\n",
    "    't3_trial_name': ['S2TP_2015_Crookston', 'S2MET_2016_Arlington', 'S2MET_2016_Crookston'],\n",
    "    'plot_dim': [None, 4.64515, 1.48645],\n",
    "    'lat': [47.818536, 43.32724, 47.818536],\n",
    "    'lon': [-96.613366, -89.334503, -96.613366]\n",
    "})\n",
    "trial_metadata = trial_metadata.loc[trial_metadata.trial.isin(trial_data.trial.unique())]"
   ]
  },
  {
   "cell_type": "markdown",
   "id": "organic-finance",
   "metadata": {},
   "source": [
    "### It's always good to take a quick peak at your data contents and dimensions"
   ]
  },
  {
   "cell_type": "code",
   "execution_count": 5,
   "id": "stainless-approach",
   "metadata": {},
   "outputs": [
    {
     "data": {
      "text/html": [
       "<div>\n",
       "<style scoped>\n",
       "    .dataframe tbody tr th:only-of-type {\n",
       "        vertical-align: middle;\n",
       "    }\n",
       "\n",
       "    .dataframe tbody tr th {\n",
       "        vertical-align: top;\n",
       "    }\n",
       "\n",
       "    .dataframe thead th {\n",
       "        text-align: right;\n",
       "    }\n",
       "</style>\n",
       "<table border=\"1\" class=\"dataframe\">\n",
       "  <thead>\n",
       "    <tr style=\"text-align: right;\">\n",
       "      <th></th>\n",
       "      <th>trial</th>\n",
       "      <th>location</th>\n",
       "      <th>year</th>\n",
       "      <th>environment</th>\n",
       "      <th>type</th>\n",
       "      <th>population</th>\n",
       "      <th>project1</th>\n",
       "      <th>project2</th>\n",
       "      <th>project3</th>\n",
       "      <th>planting_date</th>\n",
       "      <th>harvest_date</th>\n",
       "      <th>t3_trial_name</th>\n",
       "      <th>plot_dim</th>\n",
       "      <th>lat</th>\n",
       "      <th>lon</th>\n",
       "    </tr>\n",
       "  </thead>\n",
       "  <tbody>\n",
       "    <tr>\n",
       "      <th>0</th>\n",
       "      <td>2015_SPY4_S2TP_CR15</td>\n",
       "      <td>Crookston</td>\n",
       "      <td>2015</td>\n",
       "      <td>CRM15</td>\n",
       "      <td>spy</td>\n",
       "      <td>s2tp</td>\n",
       "      <td>Breeding</td>\n",
       "      <td>S2MET</td>\n",
       "      <td>None</td>\n",
       "      <td>20150416</td>\n",
       "      <td>20150831</td>\n",
       "      <td>S2TP_2015_Crookston</td>\n",
       "      <td>NaN</td>\n",
       "      <td>47.818536</td>\n",
       "      <td>-96.613366</td>\n",
       "    </tr>\n",
       "    <tr>\n",
       "      <th>1</th>\n",
       "      <td>S2_MET_AWI16</td>\n",
       "      <td>Arlington</td>\n",
       "      <td>2016</td>\n",
       "      <td>AWI16</td>\n",
       "      <td>spy</td>\n",
       "      <td>s2met</td>\n",
       "      <td>Breeding</td>\n",
       "      <td>S2MET</td>\n",
       "      <td>None</td>\n",
       "      <td>20160425</td>\n",
       "      <td>20160831</td>\n",
       "      <td>S2MET_2016_Arlington</td>\n",
       "      <td>4.64515</td>\n",
       "      <td>43.327240</td>\n",
       "      <td>-89.334503</td>\n",
       "    </tr>\n",
       "    <tr>\n",
       "      <th>2</th>\n",
       "      <td>S2_MET_CRM16</td>\n",
       "      <td>Crookston</td>\n",
       "      <td>2016</td>\n",
       "      <td>CRM16</td>\n",
       "      <td>spy</td>\n",
       "      <td>s2met</td>\n",
       "      <td>Breeding</td>\n",
       "      <td>S2MET</td>\n",
       "      <td>None</td>\n",
       "      <td>20160504</td>\n",
       "      <td>20160831</td>\n",
       "      <td>S2MET_2016_Crookston</td>\n",
       "      <td>1.48645</td>\n",
       "      <td>47.818536</td>\n",
       "      <td>-96.613366</td>\n",
       "    </tr>\n",
       "  </tbody>\n",
       "</table>\n",
       "</div>"
      ],
      "text/plain": [
       "                 trial   location  year environment type population  project1  \\\n",
       "0  2015_SPY4_S2TP_CR15  Crookston  2015       CRM15  spy       s2tp  Breeding   \n",
       "1         S2_MET_AWI16  Arlington  2016       AWI16  spy      s2met  Breeding   \n",
       "2         S2_MET_CRM16  Crookston  2016       CRM16  spy      s2met  Breeding   \n",
       "\n",
       "  project2 project3  planting_date  harvest_date         t3_trial_name  \\\n",
       "0    S2MET     None       20150416      20150831   S2TP_2015_Crookston   \n",
       "1    S2MET     None       20160425      20160831  S2MET_2016_Arlington   \n",
       "2    S2MET     None       20160504      20160831  S2MET_2016_Crookston   \n",
       "\n",
       "   plot_dim        lat        lon  \n",
       "0       NaN  47.818536 -96.613366  \n",
       "1   4.64515  43.327240 -89.334503  \n",
       "2   1.48645  47.818536 -96.613366  "
      ]
     },
     "execution_count": 5,
     "metadata": {},
     "output_type": "execute_result"
    }
   ],
   "source": [
    "trial_metadata"
   ]
  },
  {
   "cell_type": "code",
   "execution_count": 6,
   "id": "subtle-albany",
   "metadata": {},
   "outputs": [
    {
     "data": {
      "text/plain": [
       "pandas.core.frame.DataFrame"
      ]
     },
     "execution_count": 6,
     "metadata": {},
     "output_type": "execute_result"
    }
   ],
   "source": [
    "type(trial_data)"
   ]
  },
  {
   "cell_type": "code",
   "execution_count": 7,
   "id": "differential-breath",
   "metadata": {},
   "outputs": [
    {
     "data": {
      "text/html": [
       "<div>\n",
       "<style scoped>\n",
       "    .dataframe tbody tr th:only-of-type {\n",
       "        vertical-align: middle;\n",
       "    }\n",
       "\n",
       "    .dataframe tbody tr th {\n",
       "        vertical-align: top;\n",
       "    }\n",
       "\n",
       "    .dataframe thead th {\n",
       "        text-align: right;\n",
       "    }\n",
       "</style>\n",
       "<table border=\"1\" class=\"dataframe\">\n",
       "  <thead>\n",
       "    <tr style=\"text-align: right;\">\n",
       "      <th></th>\n",
       "      <th>trial</th>\n",
       "      <th>environment</th>\n",
       "      <th>location</th>\n",
       "      <th>year</th>\n",
       "      <th>trait</th>\n",
       "      <th>line_name</th>\n",
       "      <th>value</th>\n",
       "      <th>std_error</th>\n",
       "    </tr>\n",
       "  </thead>\n",
       "  <tbody>\n",
       "    <tr>\n",
       "      <th>0</th>\n",
       "      <td>S2_MET_AWI16</td>\n",
       "      <td>AWI16</td>\n",
       "      <td>Arlington</td>\n",
       "      <td>2016</td>\n",
       "      <td>GrainYield</td>\n",
       "      <td>06AB-08</td>\n",
       "      <td>4593.467000</td>\n",
       "      <td>603.427979</td>\n",
       "    </tr>\n",
       "    <tr>\n",
       "      <th>1</th>\n",
       "      <td>S2_MET_AWI16</td>\n",
       "      <td>AWI16</td>\n",
       "      <td>Arlington</td>\n",
       "      <td>2016</td>\n",
       "      <td>GrainYield</td>\n",
       "      <td>06AB-32</td>\n",
       "      <td>5103.679000</td>\n",
       "      <td>603.427979</td>\n",
       "    </tr>\n",
       "    <tr>\n",
       "      <th>2</th>\n",
       "      <td>S2_MET_AWI16</td>\n",
       "      <td>AWI16</td>\n",
       "      <td>Arlington</td>\n",
       "      <td>2016</td>\n",
       "      <td>GrainYield</td>\n",
       "      <td>06MT-93</td>\n",
       "      <td>4582.339608</td>\n",
       "      <td>593.525373</td>\n",
       "    </tr>\n",
       "    <tr>\n",
       "      <th>3</th>\n",
       "      <td>S2_MET_AWI16</td>\n",
       "      <td>AWI16</td>\n",
       "      <td>Arlington</td>\n",
       "      <td>2016</td>\n",
       "      <td>GrainYield</td>\n",
       "      <td>06N2-02</td>\n",
       "      <td>5403.786683</td>\n",
       "      <td>586.067733</td>\n",
       "    </tr>\n",
       "    <tr>\n",
       "      <th>4</th>\n",
       "      <td>S2_MET_AWI16</td>\n",
       "      <td>AWI16</td>\n",
       "      <td>Arlington</td>\n",
       "      <td>2016</td>\n",
       "      <td>GrainYield</td>\n",
       "      <td>06N2-14</td>\n",
       "      <td>6347.156608</td>\n",
       "      <td>593.525373</td>\n",
       "    </tr>\n",
       "    <tr>\n",
       "      <th>...</th>\n",
       "      <td>...</td>\n",
       "      <td>...</td>\n",
       "      <td>...</td>\n",
       "      <td>...</td>\n",
       "      <td>...</td>\n",
       "      <td>...</td>\n",
       "      <td>...</td>\n",
       "      <td>...</td>\n",
       "    </tr>\n",
       "    <tr>\n",
       "      <th>636</th>\n",
       "      <td>S2_MET_CRM16</td>\n",
       "      <td>CRM16</td>\n",
       "      <td>Crookston</td>\n",
       "      <td>2016</td>\n",
       "      <td>GrainYield</td>\n",
       "      <td>2MS14_3342-013</td>\n",
       "      <td>9290.591678</td>\n",
       "      <td>462.817157</td>\n",
       "    </tr>\n",
       "    <tr>\n",
       "      <th>637</th>\n",
       "      <td>S2_MET_CRM16</td>\n",
       "      <td>CRM16</td>\n",
       "      <td>Crookston</td>\n",
       "      <td>2016</td>\n",
       "      <td>GrainYield</td>\n",
       "      <td>2MS14_3342-018</td>\n",
       "      <td>8873.490531</td>\n",
       "      <td>462.817157</td>\n",
       "    </tr>\n",
       "    <tr>\n",
       "      <th>638</th>\n",
       "      <td>S2_MET_CRM16</td>\n",
       "      <td>CRM16</td>\n",
       "      <td>Crookston</td>\n",
       "      <td>2016</td>\n",
       "      <td>GrainYield</td>\n",
       "      <td>2MS14_3342-022</td>\n",
       "      <td>9613.508695</td>\n",
       "      <td>462.817157</td>\n",
       "    </tr>\n",
       "    <tr>\n",
       "      <th>639</th>\n",
       "      <td>S2_MET_CRM16</td>\n",
       "      <td>CRM16</td>\n",
       "      <td>Crookston</td>\n",
       "      <td>2016</td>\n",
       "      <td>GrainYield</td>\n",
       "      <td>2MS14_3345-013</td>\n",
       "      <td>8516.936325</td>\n",
       "      <td>462.817157</td>\n",
       "    </tr>\n",
       "    <tr>\n",
       "      <th>640</th>\n",
       "      <td>S2_MET_CRM16</td>\n",
       "      <td>CRM16</td>\n",
       "      <td>Crookston</td>\n",
       "      <td>2016</td>\n",
       "      <td>GrainYield</td>\n",
       "      <td>2MS14_3346-002</td>\n",
       "      <td>8523.663763</td>\n",
       "      <td>462.817157</td>\n",
       "    </tr>\n",
       "  </tbody>\n",
       "</table>\n",
       "<p>641 rows × 8 columns</p>\n",
       "</div>"
      ],
      "text/plain": [
       "            trial environment   location  year       trait       line_name  \\\n",
       "0    S2_MET_AWI16       AWI16  Arlington  2016  GrainYield         06AB-08   \n",
       "1    S2_MET_AWI16       AWI16  Arlington  2016  GrainYield         06AB-32   \n",
       "2    S2_MET_AWI16       AWI16  Arlington  2016  GrainYield         06MT-93   \n",
       "3    S2_MET_AWI16       AWI16  Arlington  2016  GrainYield         06N2-02   \n",
       "4    S2_MET_AWI16       AWI16  Arlington  2016  GrainYield         06N2-14   \n",
       "..            ...         ...        ...   ...         ...             ...   \n",
       "636  S2_MET_CRM16       CRM16  Crookston  2016  GrainYield  2MS14_3342-013   \n",
       "637  S2_MET_CRM16       CRM16  Crookston  2016  GrainYield  2MS14_3342-018   \n",
       "638  S2_MET_CRM16       CRM16  Crookston  2016  GrainYield  2MS14_3342-022   \n",
       "639  S2_MET_CRM16       CRM16  Crookston  2016  GrainYield  2MS14_3345-013   \n",
       "640  S2_MET_CRM16       CRM16  Crookston  2016  GrainYield  2MS14_3346-002   \n",
       "\n",
       "           value   std_error  \n",
       "0    4593.467000  603.427979  \n",
       "1    5103.679000  603.427979  \n",
       "2    4582.339608  593.525373  \n",
       "3    5403.786683  586.067733  \n",
       "4    6347.156608  593.525373  \n",
       "..           ...         ...  \n",
       "636  9290.591678  462.817157  \n",
       "637  8873.490531  462.817157  \n",
       "638  9613.508695  462.817157  \n",
       "639  8516.936325  462.817157  \n",
       "640  8523.663763  462.817157  \n",
       "\n",
       "[641 rows x 8 columns]"
      ]
     },
     "execution_count": 7,
     "metadata": {},
     "output_type": "execute_result"
    }
   ],
   "source": [
    "trial_data"
   ]
  },
  {
   "cell_type": "markdown",
   "id": "lonely-rebel",
   "metadata": {},
   "source": [
    "### Now suppose I want to look at the unique traits that were included"
   ]
  },
  {
   "cell_type": "code",
   "execution_count": 8,
   "id": "valid-pioneer",
   "metadata": {},
   "outputs": [
    {
     "data": {
      "text/plain": [
       "array(['GrainYield'], dtype=object)"
      ]
     },
     "execution_count": 8,
     "metadata": {},
     "output_type": "execute_result"
    }
   ],
   "source": [
    "trial_data['trait'].unique()"
   ]
  },
  {
   "cell_type": "markdown",
   "id": "authorized-california",
   "metadata": {},
   "source": [
    "### And how about locations?..."
   ]
  },
  {
   "cell_type": "code",
   "execution_count": 9,
   "id": "inappropriate-james",
   "metadata": {},
   "outputs": [
    {
     "name": "stdout",
     "output_type": "stream",
     "text": [
      "CPU times: user 273 µs, sys: 88 µs, total: 361 µs\n",
      "Wall time: 332 µs\n"
     ]
    },
    {
     "data": {
      "text/plain": [
       "array(['Arlington', 'Crookston'], dtype=object)"
      ]
     },
     "execution_count": 9,
     "metadata": {},
     "output_type": "execute_result"
    }
   ],
   "source": [
    "%%time\n",
    "trial_data['location'].unique()"
   ]
  },
  {
   "cell_type": "markdown",
   "id": "united-copying",
   "metadata": {},
   "source": [
    "### Alternatively we could just convert to a set. Is that faster?"
   ]
  },
  {
   "cell_type": "code",
   "execution_count": 10,
   "id": "perfect-paradise",
   "metadata": {},
   "outputs": [
    {
     "name": "stdout",
     "output_type": "stream",
     "text": [
      "CPU times: user 70 µs, sys: 22 µs, total: 92 µs\n",
      "Wall time: 96.3 µs\n"
     ]
    },
    {
     "data": {
      "text/plain": [
       "{'Arlington', 'Crookston'}"
      ]
     },
     "execution_count": 10,
     "metadata": {},
     "output_type": "execute_result"
    }
   ],
   "source": [
    "%%time\n",
    "set(trial_data['location'])"
   ]
  },
  {
   "cell_type": "markdown",
   "id": "expired-georgia",
   "metadata": {},
   "source": [
    "### Is it generally faster to convert to a set? What about study years and line names (varieties)?"
   ]
  },
  {
   "cell_type": "code",
   "execution_count": 11,
   "id": "secondary-samoa",
   "metadata": {},
   "outputs": [
    {
     "name": "stdout",
     "output_type": "stream",
     "text": [
      "CPU times: user 218 µs, sys: 71 µs, total: 289 µs\n",
      "Wall time: 291 µs\n"
     ]
    },
    {
     "data": {
      "text/plain": [
       "array([2016, 2015])"
      ]
     },
     "execution_count": 11,
     "metadata": {},
     "output_type": "execute_result"
    }
   ],
   "source": [
    "%%time\n",
    "trial_data['year'].unique()"
   ]
  },
  {
   "cell_type": "code",
   "execution_count": 12,
   "id": "better-terror",
   "metadata": {},
   "outputs": [
    {
     "name": "stdout",
     "output_type": "stream",
     "text": [
      "CPU times: user 77 µs, sys: 25 µs, total: 102 µs\n",
      "Wall time: 106 µs\n"
     ]
    },
    {
     "data": {
      "text/plain": [
       "{2015, 2016}"
      ]
     },
     "execution_count": 12,
     "metadata": {},
     "output_type": "execute_result"
    }
   ],
   "source": [
    "%%time\n",
    "set(trial_data['year'])"
   ]
  },
  {
   "cell_type": "code",
   "execution_count": 13,
   "id": "banned-carpet",
   "metadata": {},
   "outputs": [
    {
     "name": "stdout",
     "output_type": "stream",
     "text": [
      "CPU times: user 0 ns, sys: 386 µs, total: 386 µs\n",
      "Wall time: 358 µs\n"
     ]
    },
    {
     "data": {
      "text/plain": [
       "232"
      ]
     },
     "execution_count": 13,
     "metadata": {},
     "output_type": "execute_result"
    }
   ],
   "source": [
    "%%time\n",
    "len(trial_data['line_name'].unique())"
   ]
  },
  {
   "cell_type": "code",
   "execution_count": 14,
   "id": "instant-continuity",
   "metadata": {},
   "outputs": [
    {
     "name": "stdout",
     "output_type": "stream",
     "text": [
      "CPU times: user 80 µs, sys: 26 µs, total: 106 µs\n",
      "Wall time: 109 µs\n"
     ]
    },
    {
     "data": {
      "text/plain": [
       "232"
      ]
     },
     "execution_count": 14,
     "metadata": {},
     "output_type": "execute_result"
    }
   ],
   "source": [
    "%%time\n",
    "len(set(trial_data['line_name']))"
   ]
  },
  {
   "cell_type": "markdown",
   "id": "optical-department",
   "metadata": {},
   "source": [
    "### Not so fast, those were tiny datasets. What if we had 10M entries?"
   ]
  },
  {
   "cell_type": "code",
   "execution_count": 15,
   "id": "secondary-portrait",
   "metadata": {},
   "outputs": [
    {
     "data": {
      "text/html": [
       "<div>\n",
       "<style scoped>\n",
       "    .dataframe tbody tr th:only-of-type {\n",
       "        vertical-align: middle;\n",
       "    }\n",
       "\n",
       "    .dataframe tbody tr th {\n",
       "        vertical-align: top;\n",
       "    }\n",
       "\n",
       "    .dataframe thead th {\n",
       "        text-align: right;\n",
       "    }\n",
       "</style>\n",
       "<table border=\"1\" class=\"dataframe\">\n",
       "  <thead>\n",
       "    <tr style=\"text-align: right;\">\n",
       "      <th></th>\n",
       "      <th>Observations</th>\n",
       "    </tr>\n",
       "  </thead>\n",
       "  <tbody>\n",
       "    <tr>\n",
       "      <th>0</th>\n",
       "      <td>44</td>\n",
       "    </tr>\n",
       "    <tr>\n",
       "      <th>1</th>\n",
       "      <td>50</td>\n",
       "    </tr>\n",
       "    <tr>\n",
       "      <th>2</th>\n",
       "      <td>28</td>\n",
       "    </tr>\n",
       "    <tr>\n",
       "      <th>3</th>\n",
       "      <td>25</td>\n",
       "    </tr>\n",
       "    <tr>\n",
       "      <th>4</th>\n",
       "      <td>33</td>\n",
       "    </tr>\n",
       "  </tbody>\n",
       "</table>\n",
       "</div>"
      ],
      "text/plain": [
       "   Observations\n",
       "0            44\n",
       "1            50\n",
       "2            28\n",
       "3            25\n",
       "4            33"
      ]
     },
     "execution_count": 15,
     "metadata": {},
     "output_type": "execute_result"
    }
   ],
   "source": [
    "import random\n",
    "big_df = pd.DataFrame([int(100*random.random()) for _ in range(10000000)], columns=['Observations'])\n",
    "big_df.head()"
   ]
  },
  {
   "cell_type": "code",
   "execution_count": 16,
   "id": "negative-playlist",
   "metadata": {},
   "outputs": [
    {
     "name": "stdout",
     "output_type": "stream",
     "text": [
      "CPU times: user 35.6 ms, sys: 3.73 ms, total: 39.3 ms\n",
      "Wall time: 38.4 ms\n"
     ]
    },
    {
     "data": {
      "text/plain": [
       "100"
      ]
     },
     "execution_count": 16,
     "metadata": {},
     "output_type": "execute_result"
    }
   ],
   "source": [
    "%%time\n",
    "len(big_df['Observations'].unique())"
   ]
  },
  {
   "cell_type": "code",
   "execution_count": 17,
   "id": "facial-batman",
   "metadata": {},
   "outputs": [
    {
     "name": "stdout",
     "output_type": "stream",
     "text": [
      "CPU times: user 420 ms, sys: 971 µs, total: 421 ms\n",
      "Wall time: 422 ms\n"
     ]
    },
    {
     "data": {
      "text/plain": [
       "100"
      ]
     },
     "execution_count": 17,
     "metadata": {},
     "output_type": "execute_result"
    }
   ],
   "source": [
    "%%time\n",
    "len(set(big_df['Observations']))"
   ]
  }
 ],
 "metadata": {
  "kernelspec": {
   "display_name": "Python3.10",
   "language": "python",
   "name": "python3.10"
  },
  "language_info": {
   "codemirror_mode": {
    "name": "ipython",
    "version": 3
   },
   "file_extension": ".py",
   "mimetype": "text/x-python",
   "name": "python",
   "nbconvert_exporter": "python",
   "pygments_lexer": "ipython3",
   "version": "3.10.9"
  }
 },
 "nbformat": 4,
 "nbformat_minor": 5
}
