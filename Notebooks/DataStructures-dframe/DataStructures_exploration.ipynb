{
 "cells": [
  {
   "cell_type": "markdown",
   "id": "selected-windsor",
   "metadata": {},
   "source": [
    "# Objective: Understand interconversion of data structures and their caveats\n",
    "\n",
    "In this notebook, you will see a very simple example of a pandas dataframe, how you can convert subsets to arrays, lists and sets. You will learn first hand that they all have different strengths and purposes."
   ]
  },
  {
   "cell_type": "code",
   "execution_count": null,
   "id": "encouraging-advice",
   "metadata": {},
   "outputs": [],
   "source": [
    "import pandas as pd\n",
    "import numpy as np\n",
    "import requests as r\n",
    "from io import StringIO"
   ]
  },
  {
   "cell_type": "markdown",
   "id": "fresh-color",
   "metadata": {},
   "source": [
    "### First define a function that will allow us to pull data from Tier 2 storage (S3)"
   ]
  },
  {
   "cell_type": "code",
   "execution_count": null,
   "id": "psychological-requirement",
   "metadata": {},
   "outputs": [],
   "source": [
    "def load_s3_csv(url: str) -> pd.DataFrame:\n",
    "    \"\"\"Utility to load S3 csvs into pandas DataFrames.\n",
    "\n",
    "    Args:\n",
    "        url (str): S3 url (https)\n",
    "\n",
    "    Returns:\n",
    "        pd.DataFrame: containing csv at provided url.\n",
    "    \"\"\"\n",
    "    # using this to get around pandas ssl error when reading url directly\n",
    "    res = r.get(url)\n",
    "    assert res.status_code == 200, f'Failed to read {url}'\n",
    "    csv_str = res.text\n",
    "    df = pd.read_csv(StringIO(csv_str))\n",
    "    return df\n"
   ]
  },
  {
   "cell_type": "markdown",
   "id": "bottom-hampshire",
   "metadata": {},
   "source": [
    "### Now grab some barley field trial data"
   ]
  },
  {
   "cell_type": "code",
   "execution_count": null,
   "id": "prerequisite-subsection",
   "metadata": {},
   "outputs": [],
   "source": [
    "trial_data_url = 'https://s3.msi.umn.edu/hpc4ag/barley_trial_data.csv'"
   ]
  },
  {
   "cell_type": "code",
   "execution_count": null,
   "id": "killing-pierce",
   "metadata": {},
   "outputs": [],
   "source": [
    "trial_data = load_s3_csv(trial_data_url)\n",
    "trial_metadata = pd.DataFrame({\n",
    "    'trial': ['2015_SPY4_S2TP_CR15', 'S2_MET_AWI16', 'S2_MET_CRM16'],\n",
    "    'location': ['Crookston', 'Arlington', 'Crookston'],\n",
    "    'year': [2015, 2016, 2016],\n",
    "    'environment': ['CRM15', 'AWI16', 'CRM16'],\n",
    "    'type': ['spy', 'spy', 'spy'],\n",
    "    'population': ['s2tp', 's2met', 's2met'],\n",
    "    'project1': ['Breeding', 'Breeding', 'Breeding'],\n",
    "    'project2': ['S2MET', 'S2MET', 'S2MET'],\n",
    "    'project3': [None, None, None],\n",
    "    'planting_date': [20150416, 20160425, 20160504],\n",
    "    'harvest_date': [20150831, 20160831, 20160831],\n",
    "    't3_trial_name': ['S2TP_2015_Crookston', 'S2MET_2016_Arlington', 'S2MET_2016_Crookston'],\n",
    "    'plot_dim': [None, 4.64515, 1.48645],\n",
    "    'lat': [47.818536, 43.32724, 47.818536],\n",
    "    'lon': [-96.613366, -89.334503, -96.613366]\n",
    "})\n",
    "trial_metadata = trial_metadata.loc[trial_metadata.trial.isin(trial_data.trial.unique())]"
   ]
  },
  {
   "cell_type": "markdown",
   "id": "north-rebate",
   "metadata": {},
   "source": [
    "### It's always good to take a quick peak at your data contents and dimensions"
   ]
  },
  {
   "cell_type": "code",
   "execution_count": null,
   "id": "synthetic-cooper",
   "metadata": {},
   "outputs": [],
   "source": [
    "trial_metadata"
   ]
  },
  {
   "cell_type": "code",
   "execution_count": null,
   "id": "sought-extent",
   "metadata": {},
   "outputs": [],
   "source": [
    "type(trial_data)"
   ]
  },
  {
   "cell_type": "code",
   "execution_count": null,
   "id": "current-jackson",
   "metadata": {},
   "outputs": [],
   "source": [
    "trial_data"
   ]
  },
  {
   "cell_type": "markdown",
   "id": "verbal-father",
   "metadata": {},
   "source": [
    "### Now suppose I want to look at the unique traits that were included"
   ]
  },
  {
   "cell_type": "code",
   "execution_count": null,
   "id": "registered-freeze",
   "metadata": {},
   "outputs": [],
   "source": [
    "trial_data['trait'].unique()"
   ]
  },
  {
   "cell_type": "markdown",
   "id": "hollow-exhibition",
   "metadata": {},
   "source": [
    "### And how about locations?..."
   ]
  },
  {
   "cell_type": "code",
   "execution_count": null,
   "id": "frozen-coral",
   "metadata": {},
   "outputs": [],
   "source": [
    "%%time\n",
    "trial_data['location'].unique()"
   ]
  },
  {
   "cell_type": "markdown",
   "id": "burning-usage",
   "metadata": {},
   "source": [
    "### Alternatively we could just convert to a set. Is that faster?"
   ]
  },
  {
   "cell_type": "code",
   "execution_count": null,
   "id": "allied-trash",
   "metadata": {},
   "outputs": [],
   "source": [
    "%%time\n",
    "set(trial_data['location'])"
   ]
  },
  {
   "cell_type": "markdown",
   "id": "reasonable-acrobat",
   "metadata": {},
   "source": [
    "### Is it generally faster to convert to a set? What about study years and line names (varieties)?"
   ]
  },
  {
   "cell_type": "code",
   "execution_count": null,
   "id": "viral-installation",
   "metadata": {},
   "outputs": [],
   "source": [
    "%%time\n",
    "trial_data['year'].unique()"
   ]
  },
  {
   "cell_type": "code",
   "execution_count": null,
   "id": "whole-membrane",
   "metadata": {},
   "outputs": [],
   "source": [
    "%%time\n",
    "set(trial_data['year'])"
   ]
  },
  {
   "cell_type": "code",
   "execution_count": null,
   "id": "utility-basic",
   "metadata": {},
   "outputs": [],
   "source": [
    "%%time\n",
    "trial_data['line_name'].nunique()"
   ]
  },
  {
   "cell_type": "code",
   "execution_count": null,
   "id": "polish-mauritius",
   "metadata": {},
   "outputs": [],
   "source": [
    "%%time\n",
    "len(set(trial_data['line_name']))"
   ]
  },
  {
   "cell_type": "markdown",
   "id": "subsequent-secret",
   "metadata": {},
   "source": [
    "### Not so fast, those were tiny datasets. What if we had 10M entries?"
   ]
  },
  {
   "cell_type": "code",
   "execution_count": null,
   "id": "checked-russia",
   "metadata": {},
   "outputs": [],
   "source": [
    "import random\n",
    "big_df = pd.DataFrame([int(100*random.random()) for _ in range(10000000)], columns=['Observations'])\n",
    "big_df.head()"
   ]
  },
  {
   "cell_type": "code",
   "execution_count": null,
   "id": "burning-continuity",
   "metadata": {},
   "outputs": [],
   "source": [
    "%%time\n",
    "big_df['Observations'].nunique()"
   ]
  },
  {
   "cell_type": "code",
   "execution_count": null,
   "id": "tender-sodium",
   "metadata": {
    "scrolled": true
   },
   "outputs": [],
   "source": [
    "%%time\n",
    "len(set(big_df['Observations']))"
   ]
  },
  {
   "cell_type": "markdown",
   "id": "theoretical-portugal",
   "metadata": {},
   "source": [
    "### Note the subtelties even within data structures\n",
    "Pandas allows columns of a data frame to be [categorical](https://pandas.pydata.org/docs/user_guide/categorical.html), which can change our timings. Notice below that setting our Observation column to categorical enables the conversion to a set to occur in half the time, but doesn't affect the unique() method!"
   ]
  },
  {
   "cell_type": "code",
   "execution_count": null,
   "id": "protective-sucking",
   "metadata": {},
   "outputs": [],
   "source": [
    "big_df['Observations'] = big_df['Observations'].astype(\"category\")"
   ]
  },
  {
   "cell_type": "code",
   "execution_count": null,
   "id": "hydraulic-imaging",
   "metadata": {},
   "outputs": [],
   "source": [
    "%%time\n",
    "big_df['Observations'].nunique()"
   ]
  },
  {
   "cell_type": "code",
   "execution_count": null,
   "id": "remarkable-belief",
   "metadata": {},
   "outputs": [],
   "source": [
    "%%time\n",
    "len(set(big_df['Observations']))"
   ]
  }
 ],
 "metadata": {
  "kernelspec": {
   "display_name": "Python 3 (ipykernel)",
   "language": "python",
   "name": "python3"
  },
  "language_info": {
   "codemirror_mode": {
    "name": "ipython",
    "version": 3
   },
   "file_extension": ".py",
   "mimetype": "text/x-python",
   "name": "python",
   "nbconvert_exporter": "python",
   "pygments_lexer": "ipython3",
   "version": "3.12.6"
  }
 },
 "nbformat": 4,
 "nbformat_minor": 5
}
