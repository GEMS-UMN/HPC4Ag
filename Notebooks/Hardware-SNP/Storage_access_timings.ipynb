{
 "cells": [
  {
   "cell_type": "code",
   "execution_count": 1,
   "id": "b1e308a6-e638-41c6-b9e5-ead99f5a1afb",
   "metadata": {},
   "outputs": [],
   "source": [
    "import pandas as pd\n",
    "import requests as r\n",
    "from io import StringIO"
   ]
  },
  {
   "cell_type": "markdown",
   "id": "ce4ddd58-374c-40a3-89f8-dbd273ed1435",
   "metadata": {},
   "source": [
    "## Storage access time assessment\n",
    "If you are reading and writing a large number of files during your analysis, it may make a difference where those files are stored. In this notebook, we will examine timings for transfer of files into and out of programs from different locations.\n",
    "### Timings for File Inputs to a dataframe"
   ]
  },
  {
   "cell_type": "markdown",
   "id": "9596f78b-62e2-4db3-9299-12c572861daa",
   "metadata": {},
   "source": [
    "#### From Panasas (parallel storage)"
   ]
  },
  {
   "cell_type": "code",
   "execution_count": 2,
   "id": "1aef10cf-7ecc-40be-99ef-022f153fabf9",
   "metadata": {},
   "outputs": [
    {
     "name": "stdout",
     "output_type": "stream",
     "text": [
      "CPU times: user 15.1 s, sys: 1.75 s, total: 16.8 s\n",
      "Wall time: 17 s\n"
     ]
    }
   ],
   "source": [
    "%%time\n",
    "df = pd.read_csv(\"/home/gems_learning/shared/hpc4ag/3k-core-v7-chr1/chr1.vcf\", sep=\"\\t\", skiprows=6)"
   ]
  },
  {
   "cell_type": "code",
   "execution_count": 3,
   "id": "c060cc21-d484-484a-810c-fc3c388a254e",
   "metadata": {},
   "outputs": [
    {
     "name": "stdout",
     "output_type": "stream",
     "text": [
      "11.4 s ± 144 ms per loop (mean ± std. dev. of 7 runs, 1 loop each)\n"
     ]
    }
   ],
   "source": [
    "%timeit df = pd.read_csv(\"/home/gems_learning/shared/hpc4ag/3k-core-v7-chr1/chr1.vcf\", sep=\"\\t\", skiprows=6)"
   ]
  },
  {
   "cell_type": "markdown",
   "id": "6b91e318-fad8-40bf-8376-d3ae33737f3b",
   "metadata": {},
   "source": [
    "#### From Tier 2 (S3 storage)\n",
    "##### Define a function to grab a dataframe from s3"
   ]
  },
  {
   "cell_type": "code",
   "execution_count": 4,
   "id": "e1ab218e-9c55-4a3f-94c7-b648a6f7826c",
   "metadata": {},
   "outputs": [],
   "source": [
    "def load_s3_csv(url: str, **kwargs) -> pd.DataFrame:\n",
    "    \"\"\"Utility to load S3 csvs into pandas DataFrames.\n",
    "\n",
    "    Args:\n",
    "        url (str): S3 url (https)\n",
    "\n",
    "    Returns:\n",
    "        pd.DataFrame: containing csv at provided url.\n",
    "    \"\"\"\n",
    "    # using this to get around pandas ssl error when reading url directly\n",
    "    res = r.get(url)\n",
    "    assert res.status_code == 200, f'Failed to read {url}'\n",
    "    csv_str = res.text\n",
    "    df = pd.read_csv(StringIO(csv_str), **kwargs)\n",
    "    return df\n"
   ]
  },
  {
   "cell_type": "markdown",
   "id": "e8504976-bb9c-462c-8e01-2aa3667cffab",
   "metadata": {},
   "source": [
    "##### Use the Unix s3cmd command to make sure our desired file is on Tier 2"
   ]
  },
  {
   "cell_type": "code",
   "execution_count": 5,
   "id": "e42ff480-ac37-4b4c-8263-e076448e0314",
   "metadata": {},
   "outputs": [
    {
     "name": "stdout",
     "output_type": "stream",
     "text": [
      "                    DIR  s3://hpc4ag/3k-core-v7-chr1/\n",
      "                    DIR  s3://hpc4ag/csb/\n",
      "2024-11-11 16:18   491M  s3://hpc4ag/3k-core-v7-chr1/chr1.vcf\n"
     ]
    }
   ],
   "source": [
    "! s3cmd ls s3://hpc4ag; s3cmd ls s3://hpc4ag/3k-core-v7-chr1/"
   ]
  },
  {
   "cell_type": "markdown",
   "id": "bd69717f-06b3-438a-998e-bec0cf6ed2fd",
   "metadata": {},
   "source": [
    "##### Load the dataframe from this object store and see how long it taks!"
   ]
  },
  {
   "cell_type": "code",
   "execution_count": 6,
   "id": "847a9e65-fa9d-4b36-ace7-bdb591a4b0e6",
   "metadata": {},
   "outputs": [
    {
     "name": "stdout",
     "output_type": "stream",
     "text": [
      "CPU times: user 13.2 s, sys: 4.55 s, total: 17.7 s\n",
      "Wall time: 20.1 s\n"
     ]
    }
   ],
   "source": [
    "%%time\n",
    "df = load_s3_csv(\"https://s3.msi.umn.edu/hpc4ag/3k-core-v7-chr1/chr1.vcf\", sep=\"\\t\", skiprows=6)"
   ]
  },
  {
   "cell_type": "code",
   "execution_count": 7,
   "id": "92c31eda-c859-4dc1-a555-4dd9c68a448d",
   "metadata": {},
   "outputs": [
    {
     "name": "stdout",
     "output_type": "stream",
     "text": [
      "19.7 s ± 2.89 s per loop (mean ± std. dev. of 7 runs, 1 loop each)\n"
     ]
    }
   ],
   "source": [
    "%timeit load_s3_csv(\"https://s3.msi.umn.edu/hpc4ag/3k-core-v7-chr1/chr1.vcf\", sep=\"\\t\", skiprows=6)"
   ]
  },
  {
   "cell_type": "markdown",
   "id": "d8d502b6-7bac-488f-8f3b-d9200010e5ec",
   "metadata": {},
   "source": [
    "#### From local scratch"
   ]
  },
  {
   "cell_type": "code",
   "execution_count": 8,
   "id": "3820445f-4b1c-4e07-8bce-3d7022716765",
   "metadata": {},
   "outputs": [
    {
     "name": "stdout",
     "output_type": "stream",
     "text": [
      "CPU times: user 6.2 ms, sys: 38.8 ms, total: 45 ms\n",
      "Wall time: 949 ms\n"
     ]
    }
   ],
   "source": [
    "%%time\n",
    "! cp /home/gems_learning/shared/hpc4ag/3k-core-v7-chr1/chr1.vcf /scratch.local/"
   ]
  },
  {
   "cell_type": "code",
   "execution_count": 9,
   "id": "410136af-6a76-452c-9283-84fc4bba124c",
   "metadata": {},
   "outputs": [
    {
     "name": "stdout",
     "output_type": "stream",
     "text": [
      "CPU times: user 11.8 s, sys: 1.87 s, total: 13.7 s\n",
      "Wall time: 13.8 s\n"
     ]
    }
   ],
   "source": [
    "%%time\n",
    "df = pd.read_csv(\"/scratch.local/chr1.vcf\", sep=\"\\t\", skiprows=6)"
   ]
  },
  {
   "cell_type": "markdown",
   "id": "6c65cad1-ee40-45c7-b1ba-044ca22557c7",
   "metadata": {},
   "source": [
    "#### From /scratch.global (VAST storage)?"
   ]
  },
  {
   "cell_type": "code",
   "execution_count": 10,
   "id": "b9048482-72e5-42e9-b8e0-f023a4864087",
   "metadata": {},
   "outputs": [
    {
     "name": "stdout",
     "output_type": "stream",
     "text": [
      "CPU times: user 6.4 ms, sys: 60.5 ms, total: 66.9 ms\n",
      "Wall time: 1.03 s\n"
     ]
    }
   ],
   "source": [
    "%%time\n",
    "! cp /home/gems_learning/shared/hpc4ag/3k-core-v7-chr1/chr1.vcf /scratch.global/hpc4ag/"
   ]
  },
  {
   "cell_type": "code",
   "execution_count": 11,
   "id": "f86e0609-118b-47b6-a7e2-5d0d61fcbdea",
   "metadata": {},
   "outputs": [
    {
     "name": "stdout",
     "output_type": "stream",
     "text": [
      "CPU times: user 11.9 s, sys: 1.91 s, total: 13.8 s\n",
      "Wall time: 14.2 s\n"
     ]
    }
   ],
   "source": [
    "%%time\n",
    "df = pd.read_csv(\"/scratch.global/hpc4ag/chr1.vcf\", sep=\"\\t\", skiprows=6)"
   ]
  },
  {
   "cell_type": "markdown",
   "id": "3155dc8f-e133-4738-a9ef-4d52ee30f2a3",
   "metadata": {},
   "source": [
    "## Writing files\n",
    "Is there any difference in writing to these varied storage devices?\n",
    "#### Panasas"
   ]
  },
  {
   "cell_type": "code",
   "execution_count": 12,
   "id": "4787ffd6-f23c-4c3d-9876-56849e7ef47a",
   "metadata": {},
   "outputs": [
    {
     "name": "stdout",
     "output_type": "stream",
     "text": [
      "CPU times: user 22.7 s, sys: 1.41 s, total: 24.1 s\n",
      "Wall time: 37.4 s\n"
     ]
    }
   ],
   "source": [
    "%%time\n",
    "df.to_csv(\"/home/gems_learning/shared/hpc4ag/test.vcf\", index=False, sep=\"\\t\")"
   ]
  },
  {
   "cell_type": "markdown",
   "id": "23b38efd-b5b4-4cc5-a85b-599fb98aa337",
   "metadata": {},
   "source": [
    "#### Tier 2"
   ]
  },
  {
   "cell_type": "code",
   "execution_count": 13,
   "id": "ea31c086-da23-4a1d-97a3-9447f048e53a",
   "metadata": {},
   "outputs": [
    {
     "name": "stdout",
     "output_type": "stream",
     "text": [
      "CPU times: user 20.7 s, sys: 1.37 s, total: 22.1 s\n",
      "Wall time: 22.2 s\n"
     ]
    }
   ],
   "source": [
    "%%time\n",
    "df.to_csv(StringIO(\"https://s3.msi.umn.edu/kats/chr1.vcf\"), sep=\"\\t\")"
   ]
  },
  {
   "cell_type": "markdown",
   "id": "6491b263-1faf-4d41-8a66-81798410827e",
   "metadata": {},
   "source": [
    "#### Local scratch"
   ]
  },
  {
   "cell_type": "code",
   "execution_count": 14,
   "id": "7662bf37-c89c-440d-9e55-559f98bf6912",
   "metadata": {},
   "outputs": [
    {
     "name": "stdout",
     "output_type": "stream",
     "text": [
      "CPU times: user 20.4 s, sys: 744 ms, total: 21.2 s\n",
      "Wall time: 21.4 s\n"
     ]
    }
   ],
   "source": [
    "%%time\n",
    "df.to_csv(\"/scratch.local/test.vcf\", index=False, sep=\"\\t\")"
   ]
  },
  {
   "cell_type": "markdown",
   "id": "72af0482-dfa8-4926-ac31-b0aa76bd2e95",
   "metadata": {},
   "source": [
    "#### Global scratch"
   ]
  },
  {
   "cell_type": "code",
   "execution_count": 15,
   "id": "3528c5a7-844c-4bba-a9d0-2b8a3f17fa9c",
   "metadata": {},
   "outputs": [
    {
     "name": "stdout",
     "output_type": "stream",
     "text": [
      "CPU times: user 20.3 s, sys: 451 ms, total: 20.8 s\n",
      "Wall time: 21.2 s\n"
     ]
    }
   ],
   "source": [
    "%%time\n",
    "df.to_csv(\"/scratch.global/test.vcf\", index=False, sep=\"\\t\")"
   ]
  }
 ],
 "metadata": {
  "kernelspec": {
   "display_name": "Python 3 (ipykernel)",
   "language": "python",
   "name": "python3"
  },
  "language_info": {
   "codemirror_mode": {
    "name": "ipython",
    "version": 3
   },
   "file_extension": ".py",
   "mimetype": "text/x-python",
   "name": "python",
   "nbconvert_exporter": "python",
   "pygments_lexer": "ipython3",
   "version": "3.12.6"
  }
 },
 "nbformat": 4,
 "nbformat_minor": 5
}
