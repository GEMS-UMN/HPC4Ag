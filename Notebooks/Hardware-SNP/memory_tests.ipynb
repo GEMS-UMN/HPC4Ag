{
 "cells": [
  {
   "cell_type": "code",
   "execution_count": 1,
   "id": "b1e308a6-e638-41c6-b9e5-ead99f5a1afb",
   "metadata": {},
   "outputs": [],
   "source": [
    "import pandas as pd\n",
    "import psutil\n",
    "import resource\n",
    "import requests as r\n",
    "from io import StringIO"
   ]
  },
  {
   "cell_type": "markdown",
   "id": "ce4ddd58-374c-40a3-89f8-dbd273ed1435",
   "metadata": {},
   "source": [
    "## Memory management\n",
    "When you start a program, you are allocated a finite amount of Random Access Memory (RAM) to work with. Generally, your program will behave well when you are not approaching your memory limit."
   ]
  },
  {
   "cell_type": "code",
   "execution_count": 2,
   "id": "0ebcd002-2796-4269-b800-fcce44173464",
   "metadata": {},
   "outputs": [
    {
     "name": "stdout",
     "output_type": "stream",
     "text": [
      "available memory: 501522817024, setting to 80% of that: 401218253619\n"
     ]
    }
   ],
   "source": [
    "# Calculate the maximum memory limit (80% of available memory)\n",
    "virtual_memory = psutil.virtual_memory()\n",
    "available_memory = virtual_memory.available\n",
    "memory_limit = int(available_memory * 0.8)\n",
    "print(\"available memory: {}, setting to 80% of that: {}\".format(available_memory, memory_limit))\n",
    "\n",
    "# Set the memory limit\n",
    "resource.setrlimit(resource.RLIMIT_AS, (memory_limit, memory_limit))"
   ]
  },
  {
   "cell_type": "markdown",
   "id": "9596f78b-62e2-4db3-9299-12c572861daa",
   "metadata": {},
   "source": [
    "### Read in file from Panasas (parallel storage)"
   ]
  },
  {
   "cell_type": "code",
   "execution_count": 3,
   "id": "1aef10cf-7ecc-40be-99ef-022f153fabf9",
   "metadata": {},
   "outputs": [
    {
     "name": "stdout",
     "output_type": "stream",
     "text": [
      "CPU times: user 10.5 s, sys: 1.27 s, total: 11.8 s\n",
      "Wall time: 11.9 s\n"
     ]
    }
   ],
   "source": [
    "%%time\n",
    "df = pd.read_csv(\"/home/gems_learning/shared/hpc4ag/3k-core-v7-chr1/chr1.vcf\", sep=\"\\t\", skiprows=6)"
   ]
  },
  {
   "cell_type": "markdown",
   "id": "6b91e318-fad8-40bf-8376-d3ae33737f3b",
   "metadata": {},
   "source": [
    "### Basic dataframe manipulations"
   ]
  },
  {
   "cell_type": "code",
   "execution_count": 4,
   "id": "e1ab218e-9c55-4a3f-94c7-b648a6f7826c",
   "metadata": {},
   "outputs": [
    {
     "data": {
      "text/html": [
       "<div>\n",
       "<style scoped>\n",
       "    .dataframe tbody tr th:only-of-type {\n",
       "        vertical-align: middle;\n",
       "    }\n",
       "\n",
       "    .dataframe tbody tr th {\n",
       "        vertical-align: top;\n",
       "    }\n",
       "\n",
       "    .dataframe thead th {\n",
       "        text-align: right;\n",
       "    }\n",
       "</style>\n",
       "<table border=\"1\" class=\"dataframe\">\n",
       "  <thead>\n",
       "    <tr style=\"text-align: right;\">\n",
       "      <th></th>\n",
       "      <th>#CHROM</th>\n",
       "      <th>POS</th>\n",
       "      <th>ID</th>\n",
       "      <th>REF</th>\n",
       "      <th>ALT</th>\n",
       "      <th>QUAL</th>\n",
       "      <th>FILTER</th>\n",
       "      <th>INFO</th>\n",
       "      <th>FORMAT</th>\n",
       "      <th>B001_B001</th>\n",
       "      <th>...</th>\n",
       "      <th>IRIS_313-15901_IRIS_313-15901</th>\n",
       "      <th>IRIS_313-15902_IRIS_313-15902</th>\n",
       "      <th>IRIS_313-15903_IRIS_313-15903</th>\n",
       "      <th>IRIS_313-15904_IRIS_313-15904</th>\n",
       "      <th>IRIS_313-15905_IRIS_313-15905</th>\n",
       "      <th>IRIS_313-15906_IRIS_313-15906</th>\n",
       "      <th>IRIS_313-15907_IRIS_313-15907</th>\n",
       "      <th>IRIS_313-15908_IRIS_313-15908</th>\n",
       "      <th>IRIS_313-15909_IRIS_313-15909</th>\n",
       "      <th>IRIS_313-15910_IRIS_313-15910</th>\n",
       "    </tr>\n",
       "  </thead>\n",
       "  <tbody>\n",
       "    <tr>\n",
       "      <th>0</th>\n",
       "      <td>1</td>\n",
       "      <td>1178</td>\n",
       "      <td>1178</td>\n",
       "      <td>G</td>\n",
       "      <td>T</td>\n",
       "      <td>.</td>\n",
       "      <td>.</td>\n",
       "      <td>PR</td>\n",
       "      <td>GT</td>\n",
       "      <td>0/0</td>\n",
       "      <td>...</td>\n",
       "      <td>./.</td>\n",
       "      <td>./.</td>\n",
       "      <td>0/0</td>\n",
       "      <td>0/0</td>\n",
       "      <td>0/0</td>\n",
       "      <td>0/0</td>\n",
       "      <td>./.</td>\n",
       "      <td>1/1</td>\n",
       "      <td>1/1</td>\n",
       "      <td>0/0</td>\n",
       "    </tr>\n",
       "    <tr>\n",
       "      <th>1</th>\n",
       "      <td>1</td>\n",
       "      <td>1203</td>\n",
       "      <td>1203</td>\n",
       "      <td>T</td>\n",
       "      <td>C</td>\n",
       "      <td>.</td>\n",
       "      <td>.</td>\n",
       "      <td>PR</td>\n",
       "      <td>GT</td>\n",
       "      <td>0/0</td>\n",
       "      <td>...</td>\n",
       "      <td>./.</td>\n",
       "      <td>0/0</td>\n",
       "      <td>1/1</td>\n",
       "      <td>./.</td>\n",
       "      <td>1/1</td>\n",
       "      <td>0/0</td>\n",
       "      <td>0/0</td>\n",
       "      <td>1/1</td>\n",
       "      <td>1/1</td>\n",
       "      <td>0/0</td>\n",
       "    </tr>\n",
       "    <tr>\n",
       "      <th>2</th>\n",
       "      <td>1</td>\n",
       "      <td>1248</td>\n",
       "      <td>1248</td>\n",
       "      <td>G</td>\n",
       "      <td>A</td>\n",
       "      <td>.</td>\n",
       "      <td>.</td>\n",
       "      <td>PR</td>\n",
       "      <td>GT</td>\n",
       "      <td>0/0</td>\n",
       "      <td>...</td>\n",
       "      <td>0/0</td>\n",
       "      <td>0/0</td>\n",
       "      <td>0/0</td>\n",
       "      <td>0/0</td>\n",
       "      <td>1/1</td>\n",
       "      <td>0/0</td>\n",
       "      <td>0/0</td>\n",
       "      <td>0/0</td>\n",
       "      <td>0/0</td>\n",
       "      <td>0/0</td>\n",
       "    </tr>\n",
       "    <tr>\n",
       "      <th>3</th>\n",
       "      <td>1</td>\n",
       "      <td>1282</td>\n",
       "      <td>1282</td>\n",
       "      <td>G</td>\n",
       "      <td>A</td>\n",
       "      <td>.</td>\n",
       "      <td>.</td>\n",
       "      <td>PR</td>\n",
       "      <td>GT</td>\n",
       "      <td>0/0</td>\n",
       "      <td>...</td>\n",
       "      <td>0/0</td>\n",
       "      <td>0/0</td>\n",
       "      <td>./.</td>\n",
       "      <td>0/0</td>\n",
       "      <td>0/0</td>\n",
       "      <td>0/0</td>\n",
       "      <td>0/0</td>\n",
       "      <td>0/0</td>\n",
       "      <td>0/0</td>\n",
       "      <td>0/0</td>\n",
       "    </tr>\n",
       "    <tr>\n",
       "      <th>4</th>\n",
       "      <td>1</td>\n",
       "      <td>1299</td>\n",
       "      <td>1299</td>\n",
       "      <td>T</td>\n",
       "      <td>C</td>\n",
       "      <td>.</td>\n",
       "      <td>.</td>\n",
       "      <td>PR</td>\n",
       "      <td>GT</td>\n",
       "      <td>0/0</td>\n",
       "      <td>...</td>\n",
       "      <td>0/0</td>\n",
       "      <td>0/0</td>\n",
       "      <td>./.</td>\n",
       "      <td>0/0</td>\n",
       "      <td>0/0</td>\n",
       "      <td>0/0</td>\n",
       "      <td>0/0</td>\n",
       "      <td>1/1</td>\n",
       "      <td>1/1</td>\n",
       "      <td>0/0</td>\n",
       "    </tr>\n",
       "  </tbody>\n",
       "</table>\n",
       "<p>5 rows × 3033 columns</p>\n",
       "</div>"
      ],
      "text/plain": [
       "   #CHROM   POS    ID REF ALT QUAL FILTER INFO FORMAT B001_B001  ...  \\\n",
       "0       1  1178  1178   G   T    .      .   PR     GT       0/0  ...   \n",
       "1       1  1203  1203   T   C    .      .   PR     GT       0/0  ...   \n",
       "2       1  1248  1248   G   A    .      .   PR     GT       0/0  ...   \n",
       "3       1  1282  1282   G   A    .      .   PR     GT       0/0  ...   \n",
       "4       1  1299  1299   T   C    .      .   PR     GT       0/0  ...   \n",
       "\n",
       "  IRIS_313-15901_IRIS_313-15901 IRIS_313-15902_IRIS_313-15902  \\\n",
       "0                           ./.                           ./.   \n",
       "1                           ./.                           0/0   \n",
       "2                           0/0                           0/0   \n",
       "3                           0/0                           0/0   \n",
       "4                           0/0                           0/0   \n",
       "\n",
       "  IRIS_313-15903_IRIS_313-15903 IRIS_313-15904_IRIS_313-15904  \\\n",
       "0                           0/0                           0/0   \n",
       "1                           1/1                           ./.   \n",
       "2                           0/0                           0/0   \n",
       "3                           ./.                           0/0   \n",
       "4                           ./.                           0/0   \n",
       "\n",
       "  IRIS_313-15905_IRIS_313-15905 IRIS_313-15906_IRIS_313-15906  \\\n",
       "0                           0/0                           0/0   \n",
       "1                           1/1                           0/0   \n",
       "2                           1/1                           0/0   \n",
       "3                           0/0                           0/0   \n",
       "4                           0/0                           0/0   \n",
       "\n",
       "  IRIS_313-15907_IRIS_313-15907 IRIS_313-15908_IRIS_313-15908  \\\n",
       "0                           ./.                           1/1   \n",
       "1                           0/0                           1/1   \n",
       "2                           0/0                           0/0   \n",
       "3                           0/0                           0/0   \n",
       "4                           0/0                           1/1   \n",
       "\n",
       "  IRIS_313-15909_IRIS_313-15909 IRIS_313-15910_IRIS_313-15910  \n",
       "0                           1/1                           0/0  \n",
       "1                           1/1                           0/0  \n",
       "2                           0/0                           0/0  \n",
       "3                           0/0                           0/0  \n",
       "4                           1/1                           0/0  \n",
       "\n",
       "[5 rows x 3033 columns]"
      ]
     },
     "execution_count": 4,
     "metadata": {},
     "output_type": "execute_result"
    }
   ],
   "source": [
    "df.head()"
   ]
  },
  {
   "cell_type": "code",
   "execution_count": 5,
   "id": "4a9ac115-df3b-40f7-95c8-8aaf87f6c71a",
   "metadata": {},
   "outputs": [
    {
     "name": "stdout",
     "output_type": "stream",
     "text": [
      "CPU times: user 3.73 ms, sys: 0 ns, total: 3.73 ms\n",
      "Wall time: 3.77 ms\n"
     ]
    },
    {
     "data": {
      "text/plain": [
       "920164560916"
      ]
     },
     "execution_count": 5,
     "metadata": {},
     "output_type": "execute_result"
    }
   ],
   "source": [
    "%%time\n",
    "sum(df['POS'].unique())"
   ]
  },
  {
   "cell_type": "markdown",
   "id": "e8504976-bb9c-462c-8e01-2aa3667cffab",
   "metadata": {},
   "source": [
    "#### Now let's limit memory and see what happens"
   ]
  },
  {
   "cell_type": "code",
   "execution_count": 6,
   "id": "eba3977e-a90d-4828-b4aa-240c70e5cd61",
   "metadata": {},
   "outputs": [],
   "source": [
    "#resource.setrlimit(resource.RLIMIT_AS, (5000000000, 7890000000))\n",
    "resource.setrlimit(resource.RLIMIT_AS, (4999900000, 16000000000))"
   ]
  },
  {
   "cell_type": "code",
   "execution_count": 7,
   "id": "e42ff480-ac37-4b4c-8263-e076448e0314",
   "metadata": {},
   "outputs": [
    {
     "name": "stdout",
     "output_type": "stream",
     "text": [
      "CPU times: user 9.82 s, sys: 544 ms, total: 10.4 s\n",
      "Wall time: 10.4 s\n"
     ]
    }
   ],
   "source": [
    "%%time\n",
    "df = pd.read_csv(\"/home/gems_learning/shared/hpc4ag/3k-core-v7-chr1/chr1.vcf\", sep=\"\\t\", skiprows=6)"
   ]
  },
  {
   "cell_type": "markdown",
   "id": "bd69717f-06b3-438a-998e-bec0cf6ed2fd",
   "metadata": {},
   "source": [
    "#### Rerun the same operation"
   ]
  },
  {
   "cell_type": "code",
   "execution_count": 8,
   "id": "847a9e65-fa9d-4b36-ace7-bdb591a4b0e6",
   "metadata": {},
   "outputs": [
    {
     "name": "stdout",
     "output_type": "stream",
     "text": [
      "CPU times: user 4.07 ms, sys: 0 ns, total: 4.07 ms\n",
      "Wall time: 4.11 ms\n"
     ]
    },
    {
     "data": {
      "text/plain": [
       "920164560916"
      ]
     },
     "execution_count": 8,
     "metadata": {},
     "output_type": "execute_result"
    }
   ],
   "source": [
    "%%time\n",
    "sum(df['POS'].unique())"
   ]
  }
 ],
 "metadata": {
  "kernelspec": {
   "display_name": "Python 3 (ipykernel)",
   "language": "python",
   "name": "python3"
  },
  "language_info": {
   "codemirror_mode": {
    "name": "ipython",
    "version": 3
   },
   "file_extension": ".py",
   "mimetype": "text/x-python",
   "name": "python",
   "nbconvert_exporter": "python",
   "pygments_lexer": "ipython3",
   "version": "3.12.6"
  }
 },
 "nbformat": 4,
 "nbformat_minor": 5
}
