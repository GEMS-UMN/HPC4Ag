{
 "cells": [
  {
   "cell_type": "code",
   "execution_count": null,
   "id": "64cc327f-445c-4248-9f85-5de0eede18a1",
   "metadata": {},
   "outputs": [],
   "source": [
    "import numpy as np\n",
    "import pandas as pd"
   ]
  },
  {
   "cell_type": "markdown",
   "id": "df4c047f-d992-4160-99eb-4c70e15ea347",
   "metadata": {},
   "source": [
    " Reading in the vcf file for chromosome 1\n",
    " Skipping the first 6 rows since they are not in tabular format"
   ]
  },
  {
   "cell_type": "code",
   "execution_count": null,
   "id": "c171a629-4c34-4db5-871c-10b584b6ee57",
   "metadata": {},
   "outputs": [],
   "source": [
    "df = pd.read_csv(\"/opt/hpc4ag/data/3k-core-v7-chr1/chr1.vcf\", sep=\"\\t\", skiprows=6)"
   ]
  },
  {
   "cell_type": "code",
   "execution_count": null,
   "id": "8bfd9a10-359a-4e02-b763-ce0b0f3b8b9f",
   "metadata": {},
   "outputs": [],
   "source": [
    "df.head()"
   ]
  },
  {
   "cell_type": "code",
   "execution_count": null,
   "id": "0d5dad04-b7d5-4e65-aed5-a9cf92fc6660",
   "metadata": {},
   "outputs": [],
   "source": [
    "df.shape"
   ]
  },
  {
   "cell_type": "markdown",
   "id": "667b6aa3-6a16-4271-aff8-e10d36cdbb34",
   "metadata": {},
   "source": [
    "Reading in the additive matrix file generated using plink\n",
    "This is a space delimited file\n",
    "Here, the rows indicate individuals genotyped, and columns are the loci in addition to some \n",
    "initial columns identifying if it was a mother or father in a cross or a sex chromosome or if there is an associated phenotype \n"
   ]
  },
  {
   "cell_type": "code",
   "execution_count": null,
   "id": "f07d00d5-9fb6-4383-a3c0-6296effcd8c2",
   "metadata": {},
   "outputs": [],
   "source": [
    "df2 = pd.read_csv(\"/opt/hpc4ag/data/3k-core-v7-chr1/chr1_A.raw\", sep='\\\\s+')"
   ]
  },
  {
   "cell_type": "code",
   "execution_count": null,
   "id": "347c3d2a-f576-481c-882c-f3d2ea2758b3",
   "metadata": {},
   "outputs": [],
   "source": [
    "df2.head()"
   ]
  },
  {
   "cell_type": "code",
   "execution_count": null,
   "id": "492eb547-9191-4439-b075-26205c4578b1",
   "metadata": {},
   "outputs": [],
   "source": [
    "df2.shape"
   ]
  },
  {
   "cell_type": "code",
   "execution_count": null,
   "id": "15fb7dd6-18a5-43c5-bdea-51675a7c94da",
   "metadata": {},
   "outputs": [],
   "source": [
    "df2.tail()"
   ]
  },
  {
   "cell_type": "markdown",
   "id": "ce4234af-0f99-40dd-bcd8-ad5a291b516a",
   "metadata": {},
   "source": [
    "Doing some exploratory analysis on some of the columns"
   ]
  },
  {
   "cell_type": "code",
   "execution_count": null,
   "id": "54cc289c-aaa2-4001-b7c0-16937d238881",
   "metadata": {},
   "outputs": [],
   "source": [
    "df2[\"FID\"].nunique()"
   ]
  },
  {
   "cell_type": "code",
   "execution_count": null,
   "id": "5083eab5-9d11-46c5-8b11-09555c4a1a3c",
   "metadata": {},
   "outputs": [],
   "source": [
    "df2[\"PAT\"].unique().tolist()"
   ]
  },
  {
   "cell_type": "code",
   "execution_count": null,
   "id": "102debff-38bd-4d60-96ec-8fe13c9ac3e1",
   "metadata": {},
   "outputs": [],
   "source": [
    "df2[\"MAT\"].unique().tolist()"
   ]
  },
  {
   "cell_type": "code",
   "execution_count": null,
   "id": "9f38d8e8-d57a-47af-9c4b-c38609851c73",
   "metadata": {},
   "outputs": [],
   "source": [
    "df2[\"SEX\"].unique().tolist()"
   ]
  },
  {
   "cell_type": "code",
   "execution_count": null,
   "id": "e4f3b58f-7028-4fd3-b442-77eada36c507",
   "metadata": {},
   "outputs": [],
   "source": [
    "df2[\"PHENOTYPE\"].unique().tolist()"
   ]
  },
  {
   "cell_type": "markdown",
   "id": "f3e57427-7292-4e8c-9079-d30b0b0cf2d5",
   "metadata": {},
   "source": [
    "Seeing as columns MAT PAT SEX and PHENOTYPE have no data of interest as such, we can drop them before proceeding"
   ]
  },
  {
   "cell_type": "code",
   "execution_count": null,
   "id": "3e48dbfa-71aa-4f89-9e6a-2264bc4ee70b",
   "metadata": {},
   "outputs": [],
   "source": [
    "labels = [\"FID\", \"PAT\", \"MAT\", \"SEX\", \"PHENOTYPE\"]\n",
    "df2 = df2.drop(columns=labels, inplace = False)"
   ]
  },
  {
   "cell_type": "code",
   "execution_count": null,
   "id": "6fe418ce-0e8c-47e4-ab72-5e3fce259f66",
   "metadata": {},
   "outputs": [],
   "source": [
    "df2.head()"
   ]
  },
  {
   "cell_type": "code",
   "execution_count": null,
   "id": "1cfdff38-f9bb-4455-9151-fb5c7b6b2295",
   "metadata": {},
   "outputs": [],
   "source": [
    "df2.shape"
   ]
  },
  {
   "cell_type": "markdown",
   "id": "9c028d63-5d1c-4d6a-a6cc-c02f0eb2014d",
   "metadata": {},
   "source": [
    "We can make the individual ID column into an index so it becomes easier to transpose the matrix if required"
   ]
  },
  {
   "cell_type": "code",
   "execution_count": null,
   "id": "1c37e11a-7301-4344-a95b-98735166940e",
   "metadata": {},
   "outputs": [],
   "source": [
    "df2 = df2.set_index('IID')"
   ]
  },
  {
   "cell_type": "code",
   "execution_count": null,
   "id": "b6278e79-2953-4f81-8d32-d240573f4052",
   "metadata": {},
   "outputs": [],
   "source": [
    "df2.head()"
   ]
  },
  {
   "cell_type": "code",
   "execution_count": null,
   "id": "87e2cb2d-4787-494b-8e52-2364cf4fa10f",
   "metadata": {},
   "outputs": [],
   "source": [
    "df2.head()"
   ]
  },
  {
   "cell_type": "code",
   "execution_count": null,
   "id": "30142fc4-44ae-4bd7-a0d7-5d0278c1d247",
   "metadata": {},
   "outputs": [],
   "source": [
    "df2.isnull().any(axis=1).sum()"
   ]
  },
  {
   "cell_type": "markdown",
   "id": "dea63bec-b997-49dc-a9ba-c46f516fb57f",
   "metadata": {},
   "source": [
    "Because a large number of missing values are present, we need to impute the values instead of simply dropping those rows or loci"
   ]
  },
  {
   "cell_type": "code",
   "execution_count": null,
   "id": "3376ce89-9f09-4286-b180-f82979294436",
   "metadata": {},
   "outputs": [],
   "source": [
    "cols = df2.columns.tolist()\n",
    "df2[cols] = df2[cols].fillna(df2.mode().iloc[0])"
   ]
  },
  {
   "cell_type": "code",
   "execution_count": null,
   "id": "0074ba6a-6544-4248-99d1-4d6c3089b9a6",
   "metadata": {},
   "outputs": [],
   "source": [
    "df2.dtypes"
   ]
  },
  {
   "cell_type": "code",
   "execution_count": null,
   "id": "28bb3510-1d83-4456-89a0-a9f4c1b8cc25",
   "metadata": {},
   "outputs": [],
   "source": [
    "df2.head()"
   ]
  },
  {
   "cell_type": "code",
   "execution_count": null,
   "id": "5a478a2e-4624-4f45-a74b-6dacca84b54b",
   "metadata": {},
   "outputs": [],
   "source": [
    "df2.tail()"
   ]
  },
  {
   "cell_type": "code",
   "execution_count": null,
   "id": "c15dfb0b-c7b5-40b2-bb18-448e48b9be25",
   "metadata": {},
   "outputs": [],
   "source": [
    "df2[\"1178_T\"].value_counts()"
   ]
  },
  {
   "cell_type": "code",
   "execution_count": null,
   "id": "89f4805a-5cdb-4b8f-b1f0-bec4cc0ca05a",
   "metadata": {},
   "outputs": [],
   "source": [
    "# Transposing the matrix so we have the loci as the rows and individuals as the columns\n",
    "df2 = df2.T"
   ]
  },
  {
   "cell_type": "code",
   "execution_count": null,
   "id": "e9a3f38c-927c-463d-927e-4ee106992240",
   "metadata": {},
   "outputs": [],
   "source": [
    "df2.head()"
   ]
  },
  {
   "cell_type": "code",
   "execution_count": null,
   "id": "2b8cf6ad-2499-4e46-86b7-c64e0cec92fa",
   "metadata": {},
   "outputs": [],
   "source": [
    "# Counting the number of rows that have null values\n",
    "df2.shape[0] - df2.dropna().shape[0]"
   ]
  },
  {
   "cell_type": "code",
   "execution_count": null,
   "id": "a63a7796-fc00-42b1-8755-a69d1f434971",
   "metadata": {},
   "outputs": [],
   "source": [
    "df2.shape"
   ]
  },
  {
   "cell_type": "code",
   "execution_count": null,
   "id": "dae7f36c-52b9-4053-9982-b3841ea96fb8",
   "metadata": {},
   "outputs": [],
   "source": [
    "# Saving this as a csv file for further processing\n",
    "df2.to_csv(\"chr1_A_matrix.csv\")"
   ]
  },
  {
   "cell_type": "code",
   "execution_count": null,
   "id": "370b7fe2-e3d2-49b5-b256-99468cbfc587",
   "metadata": {},
   "outputs": [],
   "source": []
  }
 ],
 "metadata": {
  "kernelspec": {
   "display_name": "Python 3 (ipykernel)",
   "language": "python",
   "name": "python3"
  },
  "language_info": {
   "codemirror_mode": {
    "name": "ipython",
    "version": 3
   },
   "file_extension": ".py",
   "mimetype": "text/x-python",
   "name": "python",
   "nbconvert_exporter": "python",
   "pygments_lexer": "ipython3",
   "version": "3.12.6"
  }
 },
 "nbformat": 4,
 "nbformat_minor": 5
}
