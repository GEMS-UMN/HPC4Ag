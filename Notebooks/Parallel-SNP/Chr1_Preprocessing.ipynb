{
 "cells": [
  {
   "cell_type": "code",
   "execution_count": null,
   "id": "64cc327f-445c-4248-9f85-5de0eede18a1",
   "metadata": {},
   "outputs": [],
   "source": [
    "import numpy as np\n",
    "import pandas as pd"
   ]
  },
  {
   "cell_type": "markdown",
   "id": "754801e9-67ed-4822-80c0-f7c7963664dd",
   "metadata": {},
   "source": [
    "### **Step 0. Formulate your research objective and understand your data**\n",
    "\n",
    "**Research Objective:** Preprocess data directly obtained from the 3000 Rice Genomes Project, so that it is in simple matrix form. Our processing will transform it so that markers will be in rows and varieties in columns. Also, missing data will be imputed simply with the most common allele at each marker site across the population (bad algorithm, but easy for demonstration!)  \n",
    "**Problem Type:** Sequence marker pre-processing  \n",
    "**Study Period:** 2017-2021   \n",
    "**Data:**\n",
    "\n",
    "- Marker data across approximately 3000 rice varieties"
   ]
  },
  {
   "cell_type": "markdown",
   "id": "df4c047f-d992-4160-99eb-4c70e15ea347",
   "metadata": {},
   "source": [
    " ### Step 1. Reading, exploring, and cleaning the vcf file for chromosome 1\n",
    " Skipping the first 6 rows since they are not in tabular format"
   ]
  },
  {
   "cell_type": "code",
   "execution_count": null,
   "id": "c171a629-4c34-4db5-871c-10b584b6ee57",
   "metadata": {},
   "outputs": [],
   "source": [
    "df = pd.read_csv(\"/opt/hpc4ag/data/3k-core-v7-chr1/chr1.vcf\", sep=\"\\t\", skiprows=6)"
   ]
  },
  {
   "cell_type": "code",
   "execution_count": null,
   "id": "8bfd9a10-359a-4e02-b763-ce0b0f3b8b9f",
   "metadata": {},
   "outputs": [],
   "source": [
    "df.head()"
   ]
  },
  {
   "cell_type": "code",
   "execution_count": null,
   "id": "0d5dad04-b7d5-4e65-aed5-a9cf92fc6660",
   "metadata": {},
   "outputs": [],
   "source": [
    "df.shape"
   ]
  },
  {
   "cell_type": "markdown",
   "id": "667b6aa3-6a16-4271-aff8-e10d36cdbb34",
   "metadata": {},
   "source": [
    "Reading in the additive matrix file generated using plink\n",
    "This is a space delimited file\n",
    "Here, the rows indicate individuals genotyped, and columns are the loci in addition to some \n",
    "initial columns identifying if it was a mother or father in a cross or a sex chromosome or if there is an associated phenotype \n"
   ]
  },
  {
   "cell_type": "code",
   "execution_count": null,
   "id": "f07d00d5-9fb6-4383-a3c0-6296effcd8c2",
   "metadata": {},
   "outputs": [
    {
     "name": "stderr",
     "output_type": "stream",
     "text": [
      "<>:1: SyntaxWarning: invalid escape sequence '\\s'\n",
      "<>:1: SyntaxWarning: invalid escape sequence '\\s'\n",
      "/tmp/ipykernel_3225362/1003293286.py:1: SyntaxWarning: invalid escape sequence '\\s'\n",
      "  df2 = pd.read_csv(\"/home/gems_learning/shared/hpc4ag/3k-core-v7-chr1/chr1_A.raw\", sep = '\\s+')\n"
     ]
    }
   ],
   "source": [
    "df2 = pd.read_csv(\"/opt/hpc4ag/data/3k-core-v7-chr1/chr1_A.raw\", sep='\\\\s+')"
   ]
  },
  {
   "cell_type": "code",
   "execution_count": null,
   "id": "347c3d2a-f576-481c-882c-f3d2ea2758b3",
   "metadata": {},
   "outputs": [],
   "source": [
    "df2.head()"
   ]
  },
  {
   "cell_type": "code",
   "execution_count": null,
   "id": "492eb547-9191-4439-b075-26205c4578b1",
   "metadata": {},
   "outputs": [],
   "source": [
    "df2.shape"
   ]
  },
  {
   "cell_type": "code",
   "execution_count": null,
   "id": "15fb7dd6-18a5-43c5-bdea-51675a7c94da",
   "metadata": {},
   "outputs": [],
   "source": [
    "df2.tail()"
   ]
  },
  {
   "cell_type": "markdown",
   "id": "ce4234af-0f99-40dd-bcd8-ad5a291b516a",
   "metadata": {},
   "source": [
    "Doing some exploratory analysis on some of the columns"
   ]
  },
  {
   "cell_type": "code",
   "execution_count": null,
   "id": "54cc289c-aaa2-4001-b7c0-16937d238881",
   "metadata": {},
   "outputs": [],
   "source": [
    "df2[\"FID\"].nunique()"
   ]
  },
  {
   "cell_type": "code",
   "execution_count": null,
   "id": "5083eab5-9d11-46c5-8b11-09555c4a1a3c",
   "metadata": {},
   "outputs": [],
   "source": [
    "df2[\"PAT\"].unique().tolist()"
   ]
  },
  {
   "cell_type": "code",
   "execution_count": null,
   "id": "102debff-38bd-4d60-96ec-8fe13c9ac3e1",
   "metadata": {},
   "outputs": [],
   "source": [
    "df2[\"MAT\"].unique().tolist()"
   ]
  },
  {
   "cell_type": "code",
   "execution_count": null,
   "id": "9f38d8e8-d57a-47af-9c4b-c38609851c73",
   "metadata": {},
   "outputs": [],
   "source": [
    "df2[\"SEX\"].unique().tolist()"
   ]
  },
  {
   "cell_type": "code",
   "execution_count": null,
   "id": "e4f3b58f-7028-4fd3-b442-77eada36c507",
   "metadata": {},
   "outputs": [],
   "source": [
    "df2[\"PHENOTYPE\"].unique().tolist()"
   ]
  },
  {
   "cell_type": "markdown",
   "id": "f3e57427-7292-4e8c-9079-d30b0b0cf2d5",
   "metadata": {},
   "source": [
    "Seeing as columns MAT PAT SEX and PHENOTYPE have no data of interest as such, we can drop them before proceeding"
   ]
  },
  {
   "cell_type": "code",
   "execution_count": null,
   "id": "3e48dbfa-71aa-4f89-9e6a-2264bc4ee70b",
   "metadata": {},
   "outputs": [],
   "source": [
    "labels = [\"FID\", \"PAT\", \"MAT\", \"SEX\", \"PHENOTYPE\"]\n",
    "df2 = df2.drop(columns=labels, inplace = False)"
   ]
  },
  {
   "cell_type": "code",
   "execution_count": null,
   "id": "6fe418ce-0e8c-47e4-ab72-5e3fce259f66",
   "metadata": {},
   "outputs": [],
   "source": [
    "df2.head()"
   ]
  },
  {
   "cell_type": "code",
   "execution_count": null,
   "id": "1cfdff38-f9bb-4455-9151-fb5c7b6b2295",
   "metadata": {},
   "outputs": [],
   "source": [
    "df2.shape"
   ]
  },
  {
   "cell_type": "markdown",
   "id": "9c028d63-5d1c-4d6a-a6cc-c02f0eb2014d",
   "metadata": {},
   "source": [
    "We can make the individual ID column into an index so it becomes easier to transpose the matrix if required"
   ]
  },
  {
   "cell_type": "code",
   "execution_count": null,
   "id": "1c37e11a-7301-4344-a95b-98735166940e",
   "metadata": {},
   "outputs": [],
   "source": [
    "df2 = df2.set_index('IID')"
   ]
  },
  {
   "cell_type": "code",
   "execution_count": null,
   "id": "b6278e79-2953-4f81-8d32-d240573f4052",
   "metadata": {},
   "outputs": [],
   "source": [
    "df2.head()"
   ]
  },
  {
   "cell_type": "code",
   "execution_count": null,
   "id": "87e2cb2d-4787-494b-8e52-2364cf4fa10f",
   "metadata": {},
   "outputs": [],
   "source": [
    "df2.head()"
   ]
  },
  {
   "cell_type": "code",
   "execution_count": null,
   "id": "30142fc4-44ae-4bd7-a0d7-5d0278c1d247",
   "metadata": {},
   "outputs": [],
   "source": [
    "df2.isnull().any(axis=1).sum()"
   ]
  },
  {
   "cell_type": "markdown",
   "id": "dea63bec-b997-49dc-a9ba-c46f516fb57f",
   "metadata": {},
   "source": [
    "## Impute missing values\n",
    "Because a large number of missing values are present, we need to impute the values instead of simply dropping those rows or loci. This could be time-consuming, so lets see how it scales!\n",
    "### timing for 100 variety subset"
   ]
  },
  {
   "cell_type": "code",
   "execution_count": null,
   "id": "3376ce89-9f09-4286-b180-f82979294436",
   "metadata": {},
   "outputs": [
    {
     "name": "stdout",
     "output_type": "stream",
     "text": [
      "CPU times: user 38.3 s, sys: 214 ms, total: 38.6 s\n",
      "Wall time: 38.6 s\n"
     ]
    }
   ],
   "source": [
    "%%time\n",
    "cols = df100v.columns.tolist()\n",
    "df100v[cols] = df100v[cols].fillna(df100v.mode().iloc[0])"
   ]
  },
  {
   "cell_type": "markdown",
   "id": "6938c9d0-fca9-46ca-81bb-2df625791efe",
   "metadata": {},
   "source": [
    "### timing for 200 variety subset"
   ]
  },
  {
   "cell_type": "code",
   "execution_count": 23,
   "id": "827e8cef-6acd-4796-bf90-cee4084a1779",
   "metadata": {},
   "outputs": [
    {
     "name": "stdout",
     "output_type": "stream",
     "text": [
      "Initial shape: (3024, 42466)\n",
      "Subset shape: (200, 42466)\n"
     ]
    }
   ],
   "source": [
    "print(\"Initial shape: \"+str(df2.shape))\n",
    "df200v = df2.iloc[0:200, :].copy()\n",
    "print(\"Subset shape: \"+str(df200v.shape))"
   ]
  },
  {
   "cell_type": "code",
   "execution_count": 24,
   "id": "776349fd-2c88-4c6d-8ab8-52e32d7954ae",
   "metadata": {},
   "outputs": [
    {
     "name": "stdout",
     "output_type": "stream",
     "text": [
      "CPU times: user 39.6 s, sys: 359 ms, total: 39.9 s\n",
      "Wall time: 39.9 s\n"
     ]
    }
   ],
   "source": [
    "%%time\n",
    "cols = df200v.columns.tolist()\n",
    "df200v[cols] = df200v[cols].fillna(df200v.mode().iloc[0])"
   ]
  },
  {
   "cell_type": "markdown",
   "id": "bd9156cc-ae4b-4ed3-b2f9-171e1f90c128",
   "metadata": {},
   "source": [
    "### timing for 400 variety subset"
   ]
  },
  {
   "cell_type": "code",
   "execution_count": 25,
   "id": "d29e72df-31f3-4560-b2db-279c3a24a59e",
   "metadata": {},
   "outputs": [
    {
     "name": "stdout",
     "output_type": "stream",
     "text": [
      "Initial shape: (3024, 42466)\n",
      "Subset shape: (400, 42466)\n"
     ]
    }
   ],
   "source": [
    "print(\"Initial shape: \"+str(df2.shape))\n",
    "df400v = df2.iloc[0:400, :].copy()\n",
    "print(\"Subset shape: \"+str(df400v.shape))"
   ]
  },
  {
   "cell_type": "code",
   "execution_count": 26,
   "id": "6e162b65-fe86-4161-9848-7be5d4314194",
   "metadata": {},
   "outputs": [
    {
     "name": "stdout",
     "output_type": "stream",
     "text": [
      "CPU times: user 41.5 s, sys: 269 ms, total: 41.7 s\n",
      "Wall time: 41.9 s\n"
     ]
    }
   ],
   "source": [
    "%%time\n",
    "cols = df400v.columns.tolist()\n",
    "df400v[cols] = df400v[cols].fillna(df400v.mode().iloc[0])"
   ]
  },
  {
   "cell_type": "markdown",
   "id": "df828d76-8262-4d93-bf2e-3455432b776a",
   "metadata": {},
   "source": [
    "### timing for 800 variety subset"
   ]
  },
  {
   "cell_type": "code",
   "execution_count": 27,
   "id": "ecac478e-0857-4a99-8cb6-43c47109326f",
   "metadata": {},
   "outputs": [
    {
     "name": "stdout",
     "output_type": "stream",
     "text": [
      "Initial shape: (3024, 42466)\n",
      "Subset shape: (800, 42466)\n"
     ]
    }
   ],
   "source": [
    "print(\"Initial shape: \"+str(df2.shape))\n",
    "df800v = df2.iloc[0:800, :].copy()\n",
    "print(\"Subset shape: \"+str(df800v.shape))"
   ]
  },
  {
   "cell_type": "code",
   "execution_count": 28,
   "id": "a4653583-05c9-450f-b391-426d7e987c07",
   "metadata": {},
   "outputs": [
    {
     "name": "stdout",
     "output_type": "stream",
     "text": [
      "CPU times: user 43 s, sys: 369 ms, total: 43.4 s\n",
      "Wall time: 43.7 s\n"
     ]
    }
   ],
   "source": [
    "%%time\n",
    "cols = df800v.columns.tolist()\n",
    "df800v[cols] = df800v[cols].fillna(df800v.mode().iloc[0])"
   ]
  },
  {
   "cell_type": "markdown",
   "id": "ce2aaa46-c9db-4451-98ed-0a1b453c4971",
   "metadata": {},
   "source": [
    "## Conclusion of our variety scaling test\n",
    "OK, we clearly see the execution time is invariant with respect to the number of varieties we've included!! So we can estimate that\n",
    "3024 varieties should also take ~40 sec.\n",
    "\n",
    "But what if we had fewer markers. Logic would suggest that will be different. Recall we are doing a dumb imputation where we are just looking across the population of 3024 individuals and setting NULL entries to the most frequent allelic state of that marker. Doing the mode calc across 3024 individuals isn't a lot harder than across 100. But we are repeating this over 42,000 times!! If we only had 100 markers, we'd do a mode calculation 100 times not 42,000 times. Let's see."
   ]
  },
  {
   "cell_type": "markdown",
   "id": "e20c2125-f29a-4cc4-99ef-7ee86c2c593e",
   "metadata": {},
   "source": [
    "### timing for 1000 marker subset"
   ]
  },
  {
   "cell_type": "code",
   "execution_count": 29,
   "id": "244c3d23-063c-4dfa-81b4-ee4c61ad564b",
   "metadata": {},
   "outputs": [
    {
     "name": "stdout",
     "output_type": "stream",
     "text": [
      "Initial shape: (3024, 42466)\n",
      "Subset shape: (3024, 1000)\n"
     ]
    }
   ],
   "source": [
    "print(\"Initial shape: \"+str(df2.shape))\n",
    "df1000m = df2.iloc[:, 0:1000].copy()\n",
    "print(\"Subset shape: \"+str(df1000m.shape))"
   ]
  },
  {
   "cell_type": "code",
   "execution_count": 30,
   "id": "8c204ad8-a0fd-45e5-9f12-09092cc9facb",
   "metadata": {},
   "outputs": [
    {
     "name": "stdout",
     "output_type": "stream",
     "text": [
      "CPU times: user 368 ms, sys: 21.7 ms, total: 390 ms\n",
      "Wall time: 387 ms\n"
     ]
    }
   ],
   "source": [
    "%%time\n",
    "cols = df1000m.columns.tolist()\n",
    "df1000m[cols] = df1000m[cols].fillna(df1000m.mode().iloc[0])"
   ]
  },
  {
   "cell_type": "markdown",
   "id": "c8629cfc-a3e6-457b-b9f7-c8dca98f4b03",
   "metadata": {},
   "source": [
    "### timing for 2000 marker subset"
   ]
  },
  {
   "cell_type": "code",
   "execution_count": 31,
   "id": "9d7f2aee-e5da-4e52-9fa9-5e96ecfdc2a9",
   "metadata": {},
   "outputs": [
    {
     "name": "stdout",
     "output_type": "stream",
     "text": [
      "Initial shape: (3024, 42466)\n",
      "Subset shape: (3024, 2000)\n"
     ]
    }
   ],
   "source": [
    "print(\"Initial shape: \"+str(df2.shape))\n",
    "df2000m = df2.iloc[:, 0:2000].copy()\n",
    "print(\"Subset shape: \"+str(df2000m.shape))"
   ]
  },
  {
   "cell_type": "code",
   "execution_count": 32,
   "id": "bc92475a-4c5e-4842-856d-84213ff45be7",
   "metadata": {},
   "outputs": [
    {
     "name": "stdout",
     "output_type": "stream",
     "text": [
      "CPU times: user 870 ms, sys: 26.8 ms, total: 897 ms\n",
      "Wall time: 893 ms\n"
     ]
    }
   ],
   "source": [
    "%%time\n",
    "cols = df2000m.columns.tolist()\n",
    "df2000m[cols] = df2000m[cols].fillna(df2000m.mode().iloc[0])"
   ]
  },
  {
   "cell_type": "markdown",
   "id": "6a531273-e6b8-4586-9ce2-663c71a3c3e7",
   "metadata": {},
   "source": [
    "### timing for 4000 marker subset"
   ]
  },
  {
   "cell_type": "code",
   "execution_count": 33,
   "id": "51fc8216-c022-49ab-8c54-8d88625300f9",
   "metadata": {},
   "outputs": [
    {
     "name": "stdout",
     "output_type": "stream",
     "text": [
      "Initial shape: (3024, 42466)\n",
      "Subset shape: (3024, 4000)\n"
     ]
    }
   ],
   "source": [
    "print(\"Initial shape: \"+str(df2.shape))\n",
    "df4000m = df2.iloc[:, 0:4000].copy()\n",
    "print(\"Subset shape: \"+str(df4000m.shape))"
   ]
  },
  {
   "cell_type": "code",
   "execution_count": 34,
   "id": "c1250eb5-c638-4692-8ff4-4ea0ec80be9f",
   "metadata": {},
   "outputs": [
    {
     "name": "stdout",
     "output_type": "stream",
     "text": [
      "CPU times: user 1.85 s, sys: 41.6 ms, total: 1.89 s\n",
      "Wall time: 1.89 s\n"
     ]
    }
   ],
   "source": [
    "%%time\n",
    "cols = df4000m.columns.tolist()\n",
    "df4000m[cols] = df4000m[cols].fillna(df4000m.mode().iloc[0])"
   ]
  },
  {
   "cell_type": "markdown",
   "id": "22436d60-7ae4-46ac-9000-c16f11e55a48",
   "metadata": {},
   "source": [
    "### timing for 8000 marker subset"
   ]
  },
  {
   "cell_type": "code",
   "execution_count": 35,
   "id": "3be8d46e-f07c-450e-9232-bcd427ca74e4",
   "metadata": {},
   "outputs": [
    {
     "name": "stdout",
     "output_type": "stream",
     "text": [
      "Initial shape: (3024, 42466)\n",
      "Subset shape: (3024, 8000)\n"
     ]
    }
   ],
   "source": [
    "print(\"Initial shape: \"+str(df2.shape))\n",
    "df8000m = df2.iloc[:, 0:8000].copy()\n",
    "print(\"Subset shape: \"+str(df8000m.shape))"
   ]
  },
  {
   "cell_type": "code",
   "execution_count": 36,
   "id": "3a3e63b1-1717-4fc9-ad18-05d6675d28ab",
   "metadata": {},
   "outputs": [
    {
     "name": "stdout",
     "output_type": "stream",
     "text": [
      "CPU times: user 4.64 s, sys: 97.3 ms, total: 4.73 s\n",
      "Wall time: 4.74 s\n"
     ]
    }
   ],
   "source": [
    "%%time\n",
    "cols = df8000m.columns.tolist()\n",
    "df8000m[cols] = df8000m[cols].fillna(df8000m.mode().iloc[0])"
   ]
  },
  {
   "cell_type": "markdown",
   "id": "14ea045b-8564-465b-a153-879433d08eeb",
   "metadata": {},
   "source": [
    "## Conclusion of our marker scaling test\n",
    "So that's kind of what we expected. Clear evidence of complexity worse than linear (O(N)). We can clearly see this is requiring more than ~0.6 s for every 1000 markers. So it should take > 5 s / 8000 * 42466 = ~27 sec. That's an underestimate since it assumes linearity, and it clearly is taking more and more time with each doubling. But not a lot more. No need to plot the timings and model the complexity... unless you want to!"
   ]
  },
  {
   "cell_type": "code",
   "execution_count": 37,
   "id": "f82c84dd-82e8-470c-9b9a-67225eb6560a",
   "metadata": {},
   "outputs": [
    {
     "name": "stdout",
     "output_type": "stream",
     "text": [
      "CPU times: user 42.4 s, sys: 1.22 s, total: 43.6 s\n",
      "Wall time: 43.8 s\n"
     ]
    }
   ],
   "source": [
    "%%time\n",
    "cols = df2.columns.tolist()\n",
    "df2[cols] = df2[cols].fillna(df2.mode().iloc[0])"
   ]
  },
  {
   "cell_type": "code",
   "execution_count": null,
   "id": "0074ba6a-6544-4248-99d1-4d6c3089b9a6",
   "metadata": {},
   "outputs": [],
   "source": [
    "df2.dtypes"
   ]
  },
  {
   "cell_type": "code",
   "execution_count": null,
   "id": "28bb3510-1d83-4456-89a0-a9f4c1b8cc25",
   "metadata": {},
   "outputs": [],
   "source": [
    "df2.head()"
   ]
  },
  {
   "cell_type": "code",
   "execution_count": null,
   "id": "5a478a2e-4624-4f45-a74b-6dacca84b54b",
   "metadata": {},
   "outputs": [],
   "source": [
    "df2.tail()"
   ]
  },
  {
   "cell_type": "code",
   "execution_count": null,
   "id": "c15dfb0b-c7b5-40b2-bb18-448e48b9be25",
   "metadata": {},
   "outputs": [],
   "source": [
    "df2[\"1178_T\"].value_counts()"
   ]
  },
  {
   "cell_type": "code",
   "execution_count": null,
   "id": "89f4805a-5cdb-4b8f-b1f0-bec4cc0ca05a",
   "metadata": {},
   "outputs": [],
   "source": [
    "# Transposing the matrix so we have the loci as the rows and individuals as the columns\n",
    "df2 = df2.T"
   ]
  },
  {
   "cell_type": "code",
   "execution_count": null,
   "id": "e9a3f38c-927c-463d-927e-4ee106992240",
   "metadata": {},
   "outputs": [],
   "source": [
    "df2.head()"
   ]
  },
  {
   "cell_type": "code",
   "execution_count": null,
   "id": "2b8cf6ad-2499-4e46-86b7-c64e0cec92fa",
   "metadata": {},
   "outputs": [],
   "source": [
    "# Counting the number of rows that have null values\n",
    "df2.shape[0] - df2.dropna().shape[0]"
   ]
  },
  {
   "cell_type": "code",
   "execution_count": null,
   "id": "a63a7796-fc00-42b1-8755-a69d1f434971",
   "metadata": {},
   "outputs": [],
   "source": [
    "df2.shape"
   ]
  },
  {
   "cell_type": "code",
   "execution_count": null,
   "id": "dae7f36c-52b9-4053-9982-b3841ea96fb8",
   "metadata": {},
   "outputs": [],
   "source": [
    "# Saving this as a csv file for further processing\n",
    "df2.to_csv(\"chr1_A_matrix.csv\")"
   ]
  }
 ],
 "metadata": {
  "kernelspec": {
   "display_name": "Python 3 (ipykernel)",
   "language": "python",
   "name": "python3"
  },
  "language_info": {
   "codemirror_mode": {
    "name": "ipython",
    "version": 3
   },
   "file_extension": ".py",
   "mimetype": "text/x-python",
   "name": "python",
   "nbconvert_exporter": "python",
   "pygments_lexer": "ipython3",
   "version": "3.12.6"
  }
 },
 "nbformat": 4,
 "nbformat_minor": 5
}
