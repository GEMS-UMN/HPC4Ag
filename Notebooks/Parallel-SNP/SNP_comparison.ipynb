{
 "cells": [
  {
   "cell_type": "code",
   "execution_count": 1,
   "id": "domestic-remedy",
   "metadata": {},
   "outputs": [
    {
     "name": "stderr",
     "output_type": "stream",
     "text": [
      "/home/gems_learning/shared/hpc4ag/venv/lib/python3.12/site-packages/simple_slurm/core.py:136: SyntaxWarning: invalid escape sequence '\\$'\n",
      "  '''Run the sbatch command with all the (previously) set arguments and\n"
     ]
    }
   ],
   "source": [
    "import numpy as np\n",
    "import pandas as pd\n",
    "import math\n",
    "import multiprocessing as mp\n",
    "import datetime\n",
    "from simple_slurm import Slurm\n",
    "from waiting import wait\n",
    "import os"
   ]
  },
  {
   "cell_type": "markdown",
   "id": "least-bradford",
   "metadata": {},
   "source": [
    "### **Step 0. Formulate your research objective and understand your data**\n",
    "\n",
    "**Research Objective:** Identify which rice varieties are identical or closely related genetically to other rice varieties from the 3000 Rice Genomes Project  \n",
    "**Problem Type:** Sequence marker comparison  \n",
    "**Study Period:** 2017-2021   \n",
    "**Data:**\n",
    "\n",
    "- Marker data across approximately 3000 rice varieties\n",
    "\n"
   ]
  },
  {
   "cell_type": "markdown",
   "id": "applicable-compatibility",
   "metadata": {},
   "source": [
    "### Step 1: Read in the dataframe that has an additive recessive allele matrix for chromosome 1\n",
    "In this structure, the rows are labeled by \"**chromosomal position**\"_\"**minor allele**\", and the columns are labled by **variety name**. The values in each cell represent the **number of recessive alleles present (0, 1, or 2)** at this position in each variety."
   ]
  },
  {
   "cell_type": "code",
   "execution_count": 2,
   "id": "basic-dietary",
   "metadata": {},
   "outputs": [],
   "source": [
    "df = pd.read_csv(\"/home/gems_learning/shared/hpc4ag/3k-core-v7-chr1/chr1_A_matrix.csv\", index_col=0)"
   ]
  },
  {
   "cell_type": "code",
   "execution_count": 3,
   "id": "coordinated-flesh",
   "metadata": {},
   "outputs": [
    {
     "data": {
      "text/html": [
       "<div>\n",
       "<style scoped>\n",
       "    .dataframe tbody tr th:only-of-type {\n",
       "        vertical-align: middle;\n",
       "    }\n",
       "\n",
       "    .dataframe tbody tr th {\n",
       "        vertical-align: top;\n",
       "    }\n",
       "\n",
       "    .dataframe thead th {\n",
       "        text-align: right;\n",
       "    }\n",
       "</style>\n",
       "<table border=\"1\" class=\"dataframe\">\n",
       "  <thead>\n",
       "    <tr style=\"text-align: right;\">\n",
       "      <th></th>\n",
       "      <th>B001</th>\n",
       "      <th>B002</th>\n",
       "      <th>B003</th>\n",
       "      <th>B004</th>\n",
       "      <th>B005</th>\n",
       "      <th>B006</th>\n",
       "      <th>B007</th>\n",
       "      <th>B008</th>\n",
       "      <th>B009</th>\n",
       "      <th>B010</th>\n",
       "      <th>...</th>\n",
       "      <th>IRIS_313-15901</th>\n",
       "      <th>IRIS_313-15902</th>\n",
       "      <th>IRIS_313-15903</th>\n",
       "      <th>IRIS_313-15904</th>\n",
       "      <th>IRIS_313-15905</th>\n",
       "      <th>IRIS_313-15906</th>\n",
       "      <th>IRIS_313-15907</th>\n",
       "      <th>IRIS_313-15908</th>\n",
       "      <th>IRIS_313-15909</th>\n",
       "      <th>IRIS_313-15910</th>\n",
       "    </tr>\n",
       "  </thead>\n",
       "  <tbody>\n",
       "    <tr>\n",
       "      <th>1178_T</th>\n",
       "      <td>0.0</td>\n",
       "      <td>0.0</td>\n",
       "      <td>0.0</td>\n",
       "      <td>0.0</td>\n",
       "      <td>0.0</td>\n",
       "      <td>0.0</td>\n",
       "      <td>0.0</td>\n",
       "      <td>0.0</td>\n",
       "      <td>0.0</td>\n",
       "      <td>0.0</td>\n",
       "      <td>...</td>\n",
       "      <td>0.0</td>\n",
       "      <td>0.0</td>\n",
       "      <td>0.0</td>\n",
       "      <td>0.0</td>\n",
       "      <td>0.0</td>\n",
       "      <td>0.0</td>\n",
       "      <td>0.0</td>\n",
       "      <td>2.0</td>\n",
       "      <td>2.0</td>\n",
       "      <td>0.0</td>\n",
       "    </tr>\n",
       "    <tr>\n",
       "      <th>1203_C</th>\n",
       "      <td>0.0</td>\n",
       "      <td>0.0</td>\n",
       "      <td>0.0</td>\n",
       "      <td>0.0</td>\n",
       "      <td>0.0</td>\n",
       "      <td>0.0</td>\n",
       "      <td>0.0</td>\n",
       "      <td>0.0</td>\n",
       "      <td>2.0</td>\n",
       "      <td>2.0</td>\n",
       "      <td>...</td>\n",
       "      <td>0.0</td>\n",
       "      <td>0.0</td>\n",
       "      <td>2.0</td>\n",
       "      <td>0.0</td>\n",
       "      <td>2.0</td>\n",
       "      <td>0.0</td>\n",
       "      <td>0.0</td>\n",
       "      <td>2.0</td>\n",
       "      <td>2.0</td>\n",
       "      <td>0.0</td>\n",
       "    </tr>\n",
       "    <tr>\n",
       "      <th>1248_A</th>\n",
       "      <td>0.0</td>\n",
       "      <td>0.0</td>\n",
       "      <td>0.0</td>\n",
       "      <td>0.0</td>\n",
       "      <td>0.0</td>\n",
       "      <td>0.0</td>\n",
       "      <td>0.0</td>\n",
       "      <td>0.0</td>\n",
       "      <td>0.0</td>\n",
       "      <td>0.0</td>\n",
       "      <td>...</td>\n",
       "      <td>0.0</td>\n",
       "      <td>0.0</td>\n",
       "      <td>0.0</td>\n",
       "      <td>0.0</td>\n",
       "      <td>2.0</td>\n",
       "      <td>0.0</td>\n",
       "      <td>0.0</td>\n",
       "      <td>0.0</td>\n",
       "      <td>0.0</td>\n",
       "      <td>0.0</td>\n",
       "    </tr>\n",
       "    <tr>\n",
       "      <th>1282_A</th>\n",
       "      <td>0.0</td>\n",
       "      <td>0.0</td>\n",
       "      <td>0.0</td>\n",
       "      <td>0.0</td>\n",
       "      <td>0.0</td>\n",
       "      <td>0.0</td>\n",
       "      <td>0.0</td>\n",
       "      <td>0.0</td>\n",
       "      <td>0.0</td>\n",
       "      <td>0.0</td>\n",
       "      <td>...</td>\n",
       "      <td>0.0</td>\n",
       "      <td>0.0</td>\n",
       "      <td>0.0</td>\n",
       "      <td>0.0</td>\n",
       "      <td>0.0</td>\n",
       "      <td>0.0</td>\n",
       "      <td>0.0</td>\n",
       "      <td>0.0</td>\n",
       "      <td>0.0</td>\n",
       "      <td>0.0</td>\n",
       "    </tr>\n",
       "    <tr>\n",
       "      <th>1299_C</th>\n",
       "      <td>0.0</td>\n",
       "      <td>0.0</td>\n",
       "      <td>0.0</td>\n",
       "      <td>0.0</td>\n",
       "      <td>0.0</td>\n",
       "      <td>0.0</td>\n",
       "      <td>0.0</td>\n",
       "      <td>0.0</td>\n",
       "      <td>0.0</td>\n",
       "      <td>0.0</td>\n",
       "      <td>...</td>\n",
       "      <td>0.0</td>\n",
       "      <td>0.0</td>\n",
       "      <td>0.0</td>\n",
       "      <td>0.0</td>\n",
       "      <td>0.0</td>\n",
       "      <td>0.0</td>\n",
       "      <td>0.0</td>\n",
       "      <td>2.0</td>\n",
       "      <td>2.0</td>\n",
       "      <td>0.0</td>\n",
       "    </tr>\n",
       "  </tbody>\n",
       "</table>\n",
       "<p>5 rows × 3024 columns</p>\n",
       "</div>"
      ],
      "text/plain": [
       "        B001  B002  B003  B004  B005  B006  B007  B008  B009  B010  ...  \\\n",
       "1178_T   0.0   0.0   0.0   0.0   0.0   0.0   0.0   0.0   0.0   0.0  ...   \n",
       "1203_C   0.0   0.0   0.0   0.0   0.0   0.0   0.0   0.0   2.0   2.0  ...   \n",
       "1248_A   0.0   0.0   0.0   0.0   0.0   0.0   0.0   0.0   0.0   0.0  ...   \n",
       "1282_A   0.0   0.0   0.0   0.0   0.0   0.0   0.0   0.0   0.0   0.0  ...   \n",
       "1299_C   0.0   0.0   0.0   0.0   0.0   0.0   0.0   0.0   0.0   0.0  ...   \n",
       "\n",
       "        IRIS_313-15901  IRIS_313-15902  IRIS_313-15903  IRIS_313-15904  \\\n",
       "1178_T             0.0             0.0             0.0             0.0   \n",
       "1203_C             0.0             0.0             2.0             0.0   \n",
       "1248_A             0.0             0.0             0.0             0.0   \n",
       "1282_A             0.0             0.0             0.0             0.0   \n",
       "1299_C             0.0             0.0             0.0             0.0   \n",
       "\n",
       "        IRIS_313-15905  IRIS_313-15906  IRIS_313-15907  IRIS_313-15908  \\\n",
       "1178_T             0.0             0.0             0.0             2.0   \n",
       "1203_C             2.0             0.0             0.0             2.0   \n",
       "1248_A             2.0             0.0             0.0             0.0   \n",
       "1282_A             0.0             0.0             0.0             0.0   \n",
       "1299_C             0.0             0.0             0.0             2.0   \n",
       "\n",
       "        IRIS_313-15909  IRIS_313-15910  \n",
       "1178_T             2.0             0.0  \n",
       "1203_C             2.0             0.0  \n",
       "1248_A             0.0             0.0  \n",
       "1282_A             0.0             0.0  \n",
       "1299_C             2.0             0.0  \n",
       "\n",
       "[5 rows x 3024 columns]"
      ]
     },
     "execution_count": 3,
     "metadata": {},
     "output_type": "execute_result"
    }
   ],
   "source": [
    "df.head()"
   ]
  },
  {
   "cell_type": "code",
   "execution_count": 4,
   "id": "warming-participation",
   "metadata": {},
   "outputs": [
    {
     "data": {
      "text/plain": [
       "(42466, 3024)"
      ]
     },
     "execution_count": 4,
     "metadata": {},
     "output_type": "execute_result"
    }
   ],
   "source": [
    "df.shape"
   ]
  },
  {
   "cell_type": "markdown",
   "id": "alike-cornell",
   "metadata": {},
   "source": [
    "### Step 2: Subset input data to run in-class exercises quickly\n",
    "\n",
    "In this full dataset for Chromosome 1, we clearly have entries for 42,466 markers across 3024 rice varieties/samples.\n",
    "\n",
    "Out of the 3024 varieties that have been genotyped we will use the first **200** to demonstrate the advantage of vectorized code and parallel processing."
   ]
  },
  {
   "cell_type": "code",
   "execution_count": 5,
   "id": "acoustic-short",
   "metadata": {},
   "outputs": [],
   "source": [
    "df_slice = df.iloc[:, 0:200]"
   ]
  },
  {
   "cell_type": "code",
   "execution_count": 6,
   "id": "charged-married",
   "metadata": {},
   "outputs": [
    {
     "data": {
      "text/html": [
       "<div>\n",
       "<style scoped>\n",
       "    .dataframe tbody tr th:only-of-type {\n",
       "        vertical-align: middle;\n",
       "    }\n",
       "\n",
       "    .dataframe tbody tr th {\n",
       "        vertical-align: top;\n",
       "    }\n",
       "\n",
       "    .dataframe thead th {\n",
       "        text-align: right;\n",
       "    }\n",
       "</style>\n",
       "<table border=\"1\" class=\"dataframe\">\n",
       "  <thead>\n",
       "    <tr style=\"text-align: right;\">\n",
       "      <th></th>\n",
       "      <th>B001</th>\n",
       "      <th>B002</th>\n",
       "      <th>B003</th>\n",
       "      <th>B004</th>\n",
       "      <th>B005</th>\n",
       "      <th>B006</th>\n",
       "      <th>B007</th>\n",
       "      <th>B008</th>\n",
       "      <th>B009</th>\n",
       "      <th>B010</th>\n",
       "      <th>...</th>\n",
       "      <th>B205</th>\n",
       "      <th>B207</th>\n",
       "      <th>B208</th>\n",
       "      <th>B210</th>\n",
       "      <th>B212</th>\n",
       "      <th>B213</th>\n",
       "      <th>B214</th>\n",
       "      <th>B215</th>\n",
       "      <th>B216</th>\n",
       "      <th>B217</th>\n",
       "    </tr>\n",
       "  </thead>\n",
       "  <tbody>\n",
       "    <tr>\n",
       "      <th>1178_T</th>\n",
       "      <td>0.0</td>\n",
       "      <td>0.0</td>\n",
       "      <td>0.0</td>\n",
       "      <td>0.0</td>\n",
       "      <td>0.0</td>\n",
       "      <td>0.0</td>\n",
       "      <td>0.0</td>\n",
       "      <td>0.0</td>\n",
       "      <td>0.0</td>\n",
       "      <td>0.0</td>\n",
       "      <td>...</td>\n",
       "      <td>0.0</td>\n",
       "      <td>0.0</td>\n",
       "      <td>0.0</td>\n",
       "      <td>0.0</td>\n",
       "      <td>0.0</td>\n",
       "      <td>0.0</td>\n",
       "      <td>0.0</td>\n",
       "      <td>0.0</td>\n",
       "      <td>0.0</td>\n",
       "      <td>0.0</td>\n",
       "    </tr>\n",
       "    <tr>\n",
       "      <th>1203_C</th>\n",
       "      <td>0.0</td>\n",
       "      <td>0.0</td>\n",
       "      <td>0.0</td>\n",
       "      <td>0.0</td>\n",
       "      <td>0.0</td>\n",
       "      <td>0.0</td>\n",
       "      <td>0.0</td>\n",
       "      <td>0.0</td>\n",
       "      <td>2.0</td>\n",
       "      <td>2.0</td>\n",
       "      <td>...</td>\n",
       "      <td>0.0</td>\n",
       "      <td>0.0</td>\n",
       "      <td>2.0</td>\n",
       "      <td>2.0</td>\n",
       "      <td>2.0</td>\n",
       "      <td>0.0</td>\n",
       "      <td>0.0</td>\n",
       "      <td>0.0</td>\n",
       "      <td>0.0</td>\n",
       "      <td>0.0</td>\n",
       "    </tr>\n",
       "    <tr>\n",
       "      <th>1248_A</th>\n",
       "      <td>0.0</td>\n",
       "      <td>0.0</td>\n",
       "      <td>0.0</td>\n",
       "      <td>0.0</td>\n",
       "      <td>0.0</td>\n",
       "      <td>0.0</td>\n",
       "      <td>0.0</td>\n",
       "      <td>0.0</td>\n",
       "      <td>0.0</td>\n",
       "      <td>0.0</td>\n",
       "      <td>...</td>\n",
       "      <td>0.0</td>\n",
       "      <td>0.0</td>\n",
       "      <td>0.0</td>\n",
       "      <td>0.0</td>\n",
       "      <td>2.0</td>\n",
       "      <td>0.0</td>\n",
       "      <td>0.0</td>\n",
       "      <td>0.0</td>\n",
       "      <td>0.0</td>\n",
       "      <td>0.0</td>\n",
       "    </tr>\n",
       "    <tr>\n",
       "      <th>1282_A</th>\n",
       "      <td>0.0</td>\n",
       "      <td>0.0</td>\n",
       "      <td>0.0</td>\n",
       "      <td>0.0</td>\n",
       "      <td>0.0</td>\n",
       "      <td>0.0</td>\n",
       "      <td>0.0</td>\n",
       "      <td>0.0</td>\n",
       "      <td>0.0</td>\n",
       "      <td>0.0</td>\n",
       "      <td>...</td>\n",
       "      <td>0.0</td>\n",
       "      <td>0.0</td>\n",
       "      <td>0.0</td>\n",
       "      <td>0.0</td>\n",
       "      <td>0.0</td>\n",
       "      <td>0.0</td>\n",
       "      <td>0.0</td>\n",
       "      <td>0.0</td>\n",
       "      <td>0.0</td>\n",
       "      <td>0.0</td>\n",
       "    </tr>\n",
       "    <tr>\n",
       "      <th>1299_C</th>\n",
       "      <td>0.0</td>\n",
       "      <td>0.0</td>\n",
       "      <td>0.0</td>\n",
       "      <td>0.0</td>\n",
       "      <td>0.0</td>\n",
       "      <td>0.0</td>\n",
       "      <td>0.0</td>\n",
       "      <td>0.0</td>\n",
       "      <td>0.0</td>\n",
       "      <td>0.0</td>\n",
       "      <td>...</td>\n",
       "      <td>0.0</td>\n",
       "      <td>0.0</td>\n",
       "      <td>0.0</td>\n",
       "      <td>0.0</td>\n",
       "      <td>0.0</td>\n",
       "      <td>0.0</td>\n",
       "      <td>0.0</td>\n",
       "      <td>0.0</td>\n",
       "      <td>0.0</td>\n",
       "      <td>0.0</td>\n",
       "    </tr>\n",
       "  </tbody>\n",
       "</table>\n",
       "<p>5 rows × 200 columns</p>\n",
       "</div>"
      ],
      "text/plain": [
       "        B001  B002  B003  B004  B005  B006  B007  B008  B009  B010  ...  B205  \\\n",
       "1178_T   0.0   0.0   0.0   0.0   0.0   0.0   0.0   0.0   0.0   0.0  ...   0.0   \n",
       "1203_C   0.0   0.0   0.0   0.0   0.0   0.0   0.0   0.0   2.0   2.0  ...   0.0   \n",
       "1248_A   0.0   0.0   0.0   0.0   0.0   0.0   0.0   0.0   0.0   0.0  ...   0.0   \n",
       "1282_A   0.0   0.0   0.0   0.0   0.0   0.0   0.0   0.0   0.0   0.0  ...   0.0   \n",
       "1299_C   0.0   0.0   0.0   0.0   0.0   0.0   0.0   0.0   0.0   0.0  ...   0.0   \n",
       "\n",
       "        B207  B208  B210  B212  B213  B214  B215  B216  B217  \n",
       "1178_T   0.0   0.0   0.0   0.0   0.0   0.0   0.0   0.0   0.0  \n",
       "1203_C   0.0   2.0   2.0   2.0   0.0   0.0   0.0   0.0   0.0  \n",
       "1248_A   0.0   0.0   0.0   2.0   0.0   0.0   0.0   0.0   0.0  \n",
       "1282_A   0.0   0.0   0.0   0.0   0.0   0.0   0.0   0.0   0.0  \n",
       "1299_C   0.0   0.0   0.0   0.0   0.0   0.0   0.0   0.0   0.0  \n",
       "\n",
       "[5 rows x 200 columns]"
      ]
     },
     "execution_count": 6,
     "metadata": {},
     "output_type": "execute_result"
    }
   ],
   "source": [
    "df_slice.head()"
   ]
  },
  {
   "cell_type": "code",
   "execution_count": 7,
   "id": "liberal-natural",
   "metadata": {},
   "outputs": [
    {
     "data": {
      "text/plain": [
       "(42466, 200)"
      ]
     },
     "execution_count": 7,
     "metadata": {},
     "output_type": "execute_result"
    }
   ],
   "source": [
    "df_slice.shape"
   ]
  },
  {
   "cell_type": "code",
   "execution_count": 8,
   "id": "classified-investigator",
   "metadata": {},
   "outputs": [],
   "source": [
    "#Saving it to workspace\n",
    "df_slice.to_csv(\"df_slice.csv\")"
   ]
  },
  {
   "cell_type": "markdown",
   "id": "framed-eleven",
   "metadata": {},
   "source": [
    "### Step 3: Create pairwise column index comparison matrix\n",
    "\n",
    "We need to compare each sample with every other sample. So we will generate all unique pairs of columns taking care not to repeat as that will be computationally expensive and redundant!"
   ]
  },
  {
   "cell_type": "code",
   "execution_count": 9,
   "id": "average-stranger",
   "metadata": {},
   "outputs": [
    {
     "data": {
      "text/plain": [
       "19900"
      ]
     },
     "execution_count": 9,
     "metadata": {},
     "output_type": "execute_result"
    }
   ],
   "source": [
    "import math\n",
    "math.comb(200,2)"
   ]
  },
  {
   "cell_type": "markdown",
   "id": "adjustable-filling",
   "metadata": {},
   "source": [
    "For the original dataset that contains 3024 samples that would mean a much larger number"
   ]
  },
  {
   "cell_type": "code",
   "execution_count": 10,
   "id": "regional-fruit",
   "metadata": {},
   "outputs": [
    {
     "data": {
      "text/plain": [
       "4570776"
      ]
     },
     "execution_count": 10,
     "metadata": {},
     "output_type": "execute_result"
    }
   ],
   "source": [
    "math.comb(3024,2)"
   ]
  },
  {
   "cell_type": "markdown",
   "id": "plain-shoulder",
   "metadata": {},
   "source": [
    "Define the function that compares elements of the two columns (**combn**, e.g., [1, 3] or [4, 7]) and calculates percentage difference in the columns. In this function, we will fix the dataframe argument to take in the data frame (**df**) of interest and let combination indices (**combn**) remain a variable to iterate over.\n"
   ]
  },
  {
   "cell_type": "code",
   "execution_count": 11,
   "id": "automotive-polyester",
   "metadata": {},
   "outputs": [],
   "source": [
    "def Perc_diff(combn, df = df):\n",
    "    pair = df.iloc[:, combn]\n",
    "    pairNoNA = pair.dropna()\n",
    "    TotalSites = pairNoNA.shape[0]\n",
    "    DiffSites = np.sum(pairNoNA[pairNoNA.columns[0]] != pairNoNA[pairNoNA.columns[1]])\n",
    "    PercDiff = round((DiffSites * 100)/ TotalSites, 2)\n",
    "    # Generate a list as output\n",
    "    result = [pair.columns[0], pair.columns[1], TotalSites, DiffSites, PercDiff]\n",
    "    return result\n"
   ]
  },
  {
   "cell_type": "code",
   "execution_count": 12,
   "id": "provincial-cutting",
   "metadata": {},
   "outputs": [
    {
     "data": {
      "text/plain": [
       "['B002', 'B004', 42466, 2077, 4.89]"
      ]
     },
     "execution_count": 12,
     "metadata": {},
     "output_type": "execute_result"
    }
   ],
   "source": [
    "Perc_diff([1,3], df_slice)"
   ]
  },
  {
   "cell_type": "markdown",
   "id": "solved-template",
   "metadata": {},
   "source": [
    "### Step 4: Performance comparisons!\n",
    "#### (1) Brute force nested loops\n",
    "\n",
    "In our first approach, let's ignore the function above and just run the calculations directly as nested for loops. Beware that this is probably the slowest and most inefficient way to do this!"
   ]
  },
  {
   "cell_type": "code",
   "execution_count": 13,
   "id": "adaptive-spokesman",
   "metadata": {},
   "outputs": [],
   "source": [
    "def SNP_compare_loops(df):\n",
    "    col_names = [\"Sample1\", \"Sample2\", \"Total_sites\", \"Diff_Sites\", \"Percent_Diff\"]\n",
    "    results = pd.DataFrame(columns = col_names)\n",
    "    for i in range(len(df_slice.columns)-1):\n",
    "        for j in range(i+1,len(df_slice.columns)):\n",
    "            pair = df_slice.iloc[:, [i,j]]\n",
    "            pairNoNA = pair.dropna()\n",
    "            TotalSites = pairNoNA.shape[0]\n",
    "            DiffSites = np.sum(pairNoNA[pairNoNA.columns[0]] != pairNoNA[pairNoNA.columns[1]])\n",
    "            PercDiff = round((DiffSites * 100)/ TotalSites, 2)\n",
    "            tmp = pd.DataFrame([[pair.columns[0], pair.columns[1], TotalSites, DiffSites, PercDiff]], columns=col_names)\n",
    "            results = pd.concat([results, tmp], ignore_index=True)\n",
    "    return results\n"
   ]
  },
  {
   "cell_type": "code",
   "execution_count": 14,
   "id": "higher-rochester",
   "metadata": {},
   "outputs": [
    {
     "name": "stderr",
     "output_type": "stream",
     "text": [
      "/tmp/ipykernel_1079514/964941779.py:12: FutureWarning: The behavior of DataFrame concatenation with empty or all-NA entries is deprecated. In a future version, this will no longer exclude empty or all-NA columns when determining the result dtypes. To retain the old behavior, exclude the relevant entries before the concat operation.\n",
      "  results = pd.concat([results, tmp], ignore_index=True)\n"
     ]
    },
    {
     "name": "stdout",
     "output_type": "stream",
     "text": [
      "CPU times: user 25.5 s, sys: 22.4 ms, total: 25.6 s\n",
      "Wall time: 25.8 s\n"
     ]
    },
    {
     "data": {
      "text/html": [
       "<div>\n",
       "<style scoped>\n",
       "    .dataframe tbody tr th:only-of-type {\n",
       "        vertical-align: middle;\n",
       "    }\n",
       "\n",
       "    .dataframe tbody tr th {\n",
       "        vertical-align: top;\n",
       "    }\n",
       "\n",
       "    .dataframe thead th {\n",
       "        text-align: right;\n",
       "    }\n",
       "</style>\n",
       "<table border=\"1\" class=\"dataframe\">\n",
       "  <thead>\n",
       "    <tr style=\"text-align: right;\">\n",
       "      <th></th>\n",
       "      <th>Sample1</th>\n",
       "      <th>Sample2</th>\n",
       "      <th>Total_sites</th>\n",
       "      <th>Diff_Sites</th>\n",
       "      <th>Percent_Diff</th>\n",
       "    </tr>\n",
       "  </thead>\n",
       "  <tbody>\n",
       "    <tr>\n",
       "      <th>0</th>\n",
       "      <td>B001</td>\n",
       "      <td>B002</td>\n",
       "      <td>42466</td>\n",
       "      <td>2437</td>\n",
       "      <td>5.74</td>\n",
       "    </tr>\n",
       "    <tr>\n",
       "      <th>1</th>\n",
       "      <td>B001</td>\n",
       "      <td>B003</td>\n",
       "      <td>42466</td>\n",
       "      <td>3278</td>\n",
       "      <td>7.72</td>\n",
       "    </tr>\n",
       "    <tr>\n",
       "      <th>2</th>\n",
       "      <td>B001</td>\n",
       "      <td>B004</td>\n",
       "      <td>42466</td>\n",
       "      <td>1994</td>\n",
       "      <td>4.70</td>\n",
       "    </tr>\n",
       "    <tr>\n",
       "      <th>3</th>\n",
       "      <td>B001</td>\n",
       "      <td>B005</td>\n",
       "      <td>42466</td>\n",
       "      <td>1933</td>\n",
       "      <td>4.55</td>\n",
       "    </tr>\n",
       "    <tr>\n",
       "      <th>4</th>\n",
       "      <td>B001</td>\n",
       "      <td>B006</td>\n",
       "      <td>42466</td>\n",
       "      <td>8492</td>\n",
       "      <td>20.00</td>\n",
       "    </tr>\n",
       "    <tr>\n",
       "      <th>...</th>\n",
       "      <td>...</td>\n",
       "      <td>...</td>\n",
       "      <td>...</td>\n",
       "      <td>...</td>\n",
       "      <td>...</td>\n",
       "    </tr>\n",
       "    <tr>\n",
       "      <th>19895</th>\n",
       "      <td>B214</td>\n",
       "      <td>B216</td>\n",
       "      <td>42466</td>\n",
       "      <td>6299</td>\n",
       "      <td>14.83</td>\n",
       "    </tr>\n",
       "    <tr>\n",
       "      <th>19896</th>\n",
       "      <td>B214</td>\n",
       "      <td>B217</td>\n",
       "      <td>42466</td>\n",
       "      <td>4563</td>\n",
       "      <td>10.75</td>\n",
       "    </tr>\n",
       "    <tr>\n",
       "      <th>19897</th>\n",
       "      <td>B215</td>\n",
       "      <td>B216</td>\n",
       "      <td>42466</td>\n",
       "      <td>8478</td>\n",
       "      <td>19.96</td>\n",
       "    </tr>\n",
       "    <tr>\n",
       "      <th>19898</th>\n",
       "      <td>B215</td>\n",
       "      <td>B217</td>\n",
       "      <td>42466</td>\n",
       "      <td>8405</td>\n",
       "      <td>19.79</td>\n",
       "    </tr>\n",
       "    <tr>\n",
       "      <th>19899</th>\n",
       "      <td>B216</td>\n",
       "      <td>B217</td>\n",
       "      <td>42466</td>\n",
       "      <td>5914</td>\n",
       "      <td>13.93</td>\n",
       "    </tr>\n",
       "  </tbody>\n",
       "</table>\n",
       "<p>19900 rows × 5 columns</p>\n",
       "</div>"
      ],
      "text/plain": [
       "      Sample1 Sample2 Total_sites Diff_Sites  Percent_Diff\n",
       "0        B001    B002       42466       2437          5.74\n",
       "1        B001    B003       42466       3278          7.72\n",
       "2        B001    B004       42466       1994          4.70\n",
       "3        B001    B005       42466       1933          4.55\n",
       "4        B001    B006       42466       8492         20.00\n",
       "...       ...     ...         ...        ...           ...\n",
       "19895    B214    B216       42466       6299         14.83\n",
       "19896    B214    B217       42466       4563         10.75\n",
       "19897    B215    B216       42466       8478         19.96\n",
       "19898    B215    B217       42466       8405         19.79\n",
       "19899    B216    B217       42466       5914         13.93\n",
       "\n",
       "[19900 rows x 5 columns]"
      ]
     },
     "execution_count": 14,
     "metadata": {},
     "output_type": "execute_result"
    }
   ],
   "source": [
    "%%time\n",
    "SNP_compare_loops(df=df_slice)"
   ]
  },
  {
   "cell_type": "markdown",
   "id": "civil-significance",
   "metadata": {},
   "source": [
    "#### (2) Replacing for loops with vectorization\n",
    "\n",
    "We will try and vectorize this by removing for loops to check execution time"
   ]
  },
  {
   "cell_type": "code",
   "execution_count": 15,
   "id": "lyric-receptor",
   "metadata": {},
   "outputs": [],
   "source": [
    "def SNP_compare_noloops(df):\n",
    "    \n",
    "    col_names = [\"Sample1\", \"Sample2\", \"Total_sites\", \"Diff_Sites\", \"Percent_Diff\"]\n",
    "    # Generate all unique combinations of columns and store as a list in pair\n",
    "    pairs = [[i, j] for i in range(len(df.columns)-1) for j in range(i+1, len(df.columns))]\n",
    "\n",
    "    # Apply the function over the dataframe\n",
    "    results = [Perc_diff(combn, df_slice) for combn in pairs]\n",
    "    results = pd.DataFrame(results, columns=col_names)\n",
    "    return results\n"
   ]
  },
  {
   "cell_type": "code",
   "execution_count": 16,
   "id": "superb-medline",
   "metadata": {},
   "outputs": [
    {
     "name": "stdout",
     "output_type": "stream",
     "text": [
      "CPU times: user 16 s, sys: 12.1 ms, total: 16 s\n",
      "Wall time: 16.2 s\n"
     ]
    },
    {
     "data": {
      "text/html": [
       "<div>\n",
       "<style scoped>\n",
       "    .dataframe tbody tr th:only-of-type {\n",
       "        vertical-align: middle;\n",
       "    }\n",
       "\n",
       "    .dataframe tbody tr th {\n",
       "        vertical-align: top;\n",
       "    }\n",
       "\n",
       "    .dataframe thead th {\n",
       "        text-align: right;\n",
       "    }\n",
       "</style>\n",
       "<table border=\"1\" class=\"dataframe\">\n",
       "  <thead>\n",
       "    <tr style=\"text-align: right;\">\n",
       "      <th></th>\n",
       "      <th>Sample1</th>\n",
       "      <th>Sample2</th>\n",
       "      <th>Total_sites</th>\n",
       "      <th>Diff_Sites</th>\n",
       "      <th>Percent_Diff</th>\n",
       "    </tr>\n",
       "  </thead>\n",
       "  <tbody>\n",
       "    <tr>\n",
       "      <th>0</th>\n",
       "      <td>B001</td>\n",
       "      <td>B002</td>\n",
       "      <td>42466</td>\n",
       "      <td>2437</td>\n",
       "      <td>5.74</td>\n",
       "    </tr>\n",
       "    <tr>\n",
       "      <th>1</th>\n",
       "      <td>B001</td>\n",
       "      <td>B003</td>\n",
       "      <td>42466</td>\n",
       "      <td>3278</td>\n",
       "      <td>7.72</td>\n",
       "    </tr>\n",
       "    <tr>\n",
       "      <th>2</th>\n",
       "      <td>B001</td>\n",
       "      <td>B004</td>\n",
       "      <td>42466</td>\n",
       "      <td>1994</td>\n",
       "      <td>4.70</td>\n",
       "    </tr>\n",
       "    <tr>\n",
       "      <th>3</th>\n",
       "      <td>B001</td>\n",
       "      <td>B005</td>\n",
       "      <td>42466</td>\n",
       "      <td>1933</td>\n",
       "      <td>4.55</td>\n",
       "    </tr>\n",
       "    <tr>\n",
       "      <th>4</th>\n",
       "      <td>B001</td>\n",
       "      <td>B006</td>\n",
       "      <td>42466</td>\n",
       "      <td>8492</td>\n",
       "      <td>20.00</td>\n",
       "    </tr>\n",
       "    <tr>\n",
       "      <th>...</th>\n",
       "      <td>...</td>\n",
       "      <td>...</td>\n",
       "      <td>...</td>\n",
       "      <td>...</td>\n",
       "      <td>...</td>\n",
       "    </tr>\n",
       "    <tr>\n",
       "      <th>19895</th>\n",
       "      <td>B214</td>\n",
       "      <td>B216</td>\n",
       "      <td>42466</td>\n",
       "      <td>6299</td>\n",
       "      <td>14.83</td>\n",
       "    </tr>\n",
       "    <tr>\n",
       "      <th>19896</th>\n",
       "      <td>B214</td>\n",
       "      <td>B217</td>\n",
       "      <td>42466</td>\n",
       "      <td>4563</td>\n",
       "      <td>10.75</td>\n",
       "    </tr>\n",
       "    <tr>\n",
       "      <th>19897</th>\n",
       "      <td>B215</td>\n",
       "      <td>B216</td>\n",
       "      <td>42466</td>\n",
       "      <td>8478</td>\n",
       "      <td>19.96</td>\n",
       "    </tr>\n",
       "    <tr>\n",
       "      <th>19898</th>\n",
       "      <td>B215</td>\n",
       "      <td>B217</td>\n",
       "      <td>42466</td>\n",
       "      <td>8405</td>\n",
       "      <td>19.79</td>\n",
       "    </tr>\n",
       "    <tr>\n",
       "      <th>19899</th>\n",
       "      <td>B216</td>\n",
       "      <td>B217</td>\n",
       "      <td>42466</td>\n",
       "      <td>5914</td>\n",
       "      <td>13.93</td>\n",
       "    </tr>\n",
       "  </tbody>\n",
       "</table>\n",
       "<p>19900 rows × 5 columns</p>\n",
       "</div>"
      ],
      "text/plain": [
       "      Sample1 Sample2  Total_sites  Diff_Sites  Percent_Diff\n",
       "0        B001    B002        42466        2437          5.74\n",
       "1        B001    B003        42466        3278          7.72\n",
       "2        B001    B004        42466        1994          4.70\n",
       "3        B001    B005        42466        1933          4.55\n",
       "4        B001    B006        42466        8492         20.00\n",
       "...       ...     ...          ...         ...           ...\n",
       "19895    B214    B216        42466        6299         14.83\n",
       "19896    B214    B217        42466        4563         10.75\n",
       "19897    B215    B216        42466        8478         19.96\n",
       "19898    B215    B217        42466        8405         19.79\n",
       "19899    B216    B217        42466        5914         13.93\n",
       "\n",
       "[19900 rows x 5 columns]"
      ]
     },
     "execution_count": 16,
     "metadata": {},
     "output_type": "execute_result"
    }
   ],
   "source": [
    "%%time\n",
    "SNP_compare_noloops(df=df_slice)"
   ]
  },
  {
   "cell_type": "markdown",
   "id": "ecological-jones",
   "metadata": {},
   "source": [
    "#### Profiling to see nitty-gritty of where the time is spent"
   ]
  },
  {
   "cell_type": "code",
   "execution_count": 17,
   "id": "wired-correction",
   "metadata": {},
   "outputs": [],
   "source": [
    "# %%prun\n",
    "# SNP_compare_noloops(df=df_slice)\n",
    "%load_ext line_profiler\n",
    "import cProfile"
   ]
  },
  {
   "cell_type": "code",
   "execution_count": 18,
   "id": "34568049-88a5-40eb-9eee-df464d390164",
   "metadata": {},
   "outputs": [
    {
     "data": {
      "text/plain": [
       "Timer unit: 1e-09 s\n",
       "\n",
       "Total time: 30.5195 s\n",
       "File: /tmp/ipykernel_1079514/4097740625.py\n",
       "Function: SNP_compare_noloops at line 1\n",
       "\n",
       "Line #      Hits         Time  Per Hit   % Time  Line Contents\n",
       "==============================================================\n",
       "     1                                           def SNP_compare_noloops(df):\n",
       "     2                                               \n",
       "     3         1       1503.0   1503.0      0.0      col_names = [\"Sample1\", \"Sample2\", \"Total_sites\", \"Diff_Sites\", \"Percent_Diff\"]\n",
       "     4                                               # Generate all unique combinations of columns and store as a list in pair\n",
       "     5     20100   14260200.0    709.5      0.0      pairs = [[i, j] for i in range(len(df.columns)-1) for j in range(i+1, len(df.columns))]\n",
       "     6                                           \n",
       "     7                                               # Apply the function over the dataframe\n",
       "     8     19901        3e+10    2e+06     99.8      results = [Perc_diff(combn, df_slice) for combn in pairs]\n",
       "     9         1   42176389.0    4e+07      0.1      results = pd.DataFrame(results, columns=col_names)\n",
       "    10         1        792.0    792.0      0.0      return results"
      ]
     },
     "metadata": {},
     "output_type": "display_data"
    }
   ],
   "source": [
    "%lprun -f SNP_compare_noloops SNP_compare_noloops(df=df_slice)"
   ]
  },
  {
   "cell_type": "code",
   "execution_count": 19,
   "id": "9ceaccb6-a86b-4f42-a3a1-94a8c4858f76",
   "metadata": {},
   "outputs": [
    {
     "data": {
      "text/plain": [
       "Timer unit: 1e-09 s\n",
       "\n",
       "Total time: 28.5727 s\n",
       "File: /tmp/ipykernel_1079514/1144064117.py\n",
       "Function: Perc_diff at line 1\n",
       "\n",
       "Line #      Hits         Time  Per Hit   % Time  Line Contents\n",
       "==============================================================\n",
       "     1                                           def Perc_diff(combn, df = df):\n",
       "     2     19900 5825660936.0 292746.8     20.4      pair = df.iloc[:, combn]\n",
       "     3     19900        2e+10 788871.1     54.9      pairNoNA = pair.dropna()\n",
       "     4     19900   55843300.0   2806.2      0.2      TotalSites = pairNoNA.shape[0]\n",
       "     5     19900 6638738495.0 333604.9     23.2      DiffSites = np.sum(pairNoNA[pairNoNA.columns[0]] != pairNoNA[pairNoNA.columns[1]])\n",
       "     6     19900  237786342.0  11949.1      0.8      PercDiff = round((DiffSites * 100)/ TotalSites, 2)\n",
       "     7                                               # Generate a list as output\n",
       "     8     19900  104380626.0   5245.3      0.4      result = [pair.columns[0], pair.columns[1], TotalSites, DiffSites, PercDiff]\n",
       "     9     19900   11801984.0    593.1      0.0      return result"
      ]
     },
     "metadata": {},
     "output_type": "display_data"
    }
   ],
   "source": [
    "%lprun -f Perc_diff SNP_compare_noloops(df=df_slice)"
   ]
  },
  {
   "cell_type": "markdown",
   "id": "intended-doctor",
   "metadata": {},
   "source": [
    "#### (3) Speedup using multiprocessing\n",
    "\n",
    "Now we will try to use parallel processing along with the vectorized code to speed this up even further. Notice if you only have just a few (e.g., 2-4) processors, all the overhead of mp will **slow you down**, and not speed things up!"
   ]
  },
  {
   "cell_type": "code",
   "execution_count": 20,
   "id": "directed-premises",
   "metadata": {},
   "outputs": [],
   "source": [
    "def SNP_compare_mprocess(df):\n",
    "    \n",
    "    # Generate all unique combinations of columns and store as a list in pair\n",
    "    pair = [[i, j] for i in range(len(df.columns)-1) for j in range(i+1, len(df.columns))]\n",
    "\n",
    "    #Using multiprocessing for parallel computation, instantiate pool and assign the total number of cores available using mp.cpu_count()\n",
    "    pool = mp.Pool(mp.cpu_count())\n",
    "    # Apply the funtion over one subarray of pair_split at a time usine pool.map as follows\n",
    "    results = pool.map(Perc_diff, [combn for combn in pair])\n",
    "    # Do not forget to close the pool\n",
    "    pool.close()\n",
    "    # Convert the results list into a dataframe\n",
    "    Results = pd.DataFrame(results, columns = ['Sample1', 'Sample2', 'Total_sites', 'Diff_Sites', 'Percent_Diff'])\n",
    "    return Results\n"
   ]
  },
  {
   "cell_type": "code",
   "execution_count": 21,
   "id": "happy-welding",
   "metadata": {},
   "outputs": [
    {
     "name": "stdout",
     "output_type": "stream",
     "text": [
      "CPU times: user 199 ms, sys: 2.75 s, total: 2.94 s\n",
      "Wall time: 13.6 s\n"
     ]
    },
    {
     "data": {
      "text/html": [
       "<div>\n",
       "<style scoped>\n",
       "    .dataframe tbody tr th:only-of-type {\n",
       "        vertical-align: middle;\n",
       "    }\n",
       "\n",
       "    .dataframe tbody tr th {\n",
       "        vertical-align: top;\n",
       "    }\n",
       "\n",
       "    .dataframe thead th {\n",
       "        text-align: right;\n",
       "    }\n",
       "</style>\n",
       "<table border=\"1\" class=\"dataframe\">\n",
       "  <thead>\n",
       "    <tr style=\"text-align: right;\">\n",
       "      <th></th>\n",
       "      <th>Sample1</th>\n",
       "      <th>Sample2</th>\n",
       "      <th>Total_sites</th>\n",
       "      <th>Diff_Sites</th>\n",
       "      <th>Percent_Diff</th>\n",
       "    </tr>\n",
       "  </thead>\n",
       "  <tbody>\n",
       "    <tr>\n",
       "      <th>0</th>\n",
       "      <td>B001</td>\n",
       "      <td>B002</td>\n",
       "      <td>42466</td>\n",
       "      <td>2437</td>\n",
       "      <td>5.74</td>\n",
       "    </tr>\n",
       "    <tr>\n",
       "      <th>1</th>\n",
       "      <td>B001</td>\n",
       "      <td>B003</td>\n",
       "      <td>42466</td>\n",
       "      <td>3278</td>\n",
       "      <td>7.72</td>\n",
       "    </tr>\n",
       "    <tr>\n",
       "      <th>2</th>\n",
       "      <td>B001</td>\n",
       "      <td>B004</td>\n",
       "      <td>42466</td>\n",
       "      <td>1994</td>\n",
       "      <td>4.70</td>\n",
       "    </tr>\n",
       "    <tr>\n",
       "      <th>3</th>\n",
       "      <td>B001</td>\n",
       "      <td>B005</td>\n",
       "      <td>42466</td>\n",
       "      <td>1933</td>\n",
       "      <td>4.55</td>\n",
       "    </tr>\n",
       "    <tr>\n",
       "      <th>4</th>\n",
       "      <td>B001</td>\n",
       "      <td>B006</td>\n",
       "      <td>42466</td>\n",
       "      <td>8492</td>\n",
       "      <td>20.00</td>\n",
       "    </tr>\n",
       "    <tr>\n",
       "      <th>...</th>\n",
       "      <td>...</td>\n",
       "      <td>...</td>\n",
       "      <td>...</td>\n",
       "      <td>...</td>\n",
       "      <td>...</td>\n",
       "    </tr>\n",
       "    <tr>\n",
       "      <th>19895</th>\n",
       "      <td>B214</td>\n",
       "      <td>B216</td>\n",
       "      <td>42466</td>\n",
       "      <td>6299</td>\n",
       "      <td>14.83</td>\n",
       "    </tr>\n",
       "    <tr>\n",
       "      <th>19896</th>\n",
       "      <td>B214</td>\n",
       "      <td>B217</td>\n",
       "      <td>42466</td>\n",
       "      <td>4563</td>\n",
       "      <td>10.75</td>\n",
       "    </tr>\n",
       "    <tr>\n",
       "      <th>19897</th>\n",
       "      <td>B215</td>\n",
       "      <td>B216</td>\n",
       "      <td>42466</td>\n",
       "      <td>8478</td>\n",
       "      <td>19.96</td>\n",
       "    </tr>\n",
       "    <tr>\n",
       "      <th>19898</th>\n",
       "      <td>B215</td>\n",
       "      <td>B217</td>\n",
       "      <td>42466</td>\n",
       "      <td>8405</td>\n",
       "      <td>19.79</td>\n",
       "    </tr>\n",
       "    <tr>\n",
       "      <th>19899</th>\n",
       "      <td>B216</td>\n",
       "      <td>B217</td>\n",
       "      <td>42466</td>\n",
       "      <td>5914</td>\n",
       "      <td>13.93</td>\n",
       "    </tr>\n",
       "  </tbody>\n",
       "</table>\n",
       "<p>19900 rows × 5 columns</p>\n",
       "</div>"
      ],
      "text/plain": [
       "      Sample1 Sample2  Total_sites  Diff_Sites  Percent_Diff\n",
       "0        B001    B002        42466        2437          5.74\n",
       "1        B001    B003        42466        3278          7.72\n",
       "2        B001    B004        42466        1994          4.70\n",
       "3        B001    B005        42466        1933          4.55\n",
       "4        B001    B006        42466        8492         20.00\n",
       "...       ...     ...          ...         ...           ...\n",
       "19895    B214    B216        42466        6299         14.83\n",
       "19896    B214    B217        42466        4563         10.75\n",
       "19897    B215    B216        42466        8478         19.96\n",
       "19898    B215    B217        42466        8405         19.79\n",
       "19899    B216    B217        42466        5914         13.93\n",
       "\n",
       "[19900 rows x 5 columns]"
      ]
     },
     "execution_count": 21,
     "metadata": {},
     "output_type": "execute_result"
    }
   ],
   "source": [
    "%%time\n",
    "SNP_compare_mprocess(df=df_slice)"
   ]
  },
  {
   "cell_type": "markdown",
   "id": "refined-pension",
   "metadata": {},
   "source": [
    "#### (4) An embarassingly parallel solution\n",
    "\n",
    "Now we do the exact same thing but we use job arrays to breakdown a large task into multiple smaller tasks and submit them one after the other automatically. The python code for this task is already available in your workspace in the file called SNP_compare_parallel.py. You can go through the file before you run this code block. <br>\n",
    "\n",
    "We use the job submission manager, Slurm, to generate and submit the job array to the supercomputer. We use a wrapper called simple_slurm so we can execute it from within our notebook here. <br>\n",
    "\n",
    "We have saved the smaller slice of our dataset as df_slice.csv in our workspace. We will try the solution first using this subset and then further also demonstrate the rapidity of this method using the full dataset."
   ]
  },
  {
   "cell_type": "code",
   "execution_count": 22,
   "id": "cleared-offer",
   "metadata": {},
   "outputs": [],
   "source": [
    "def job_is_done(outprefix):\n",
    "    # make sure all 10 files have been written. If even one is not done this test fails!\n",
    "    for i in range(0,10):\n",
    "        if not os.path.exists(outprefix+'/'+outprefix+'_'+str(i)+'.csv'):  \n",
    "            return False\n",
    "    return True\n",
    "\n",
    "def SNP_compare_slurm(outprefix, df_file):\n",
    "    # Configure the SLURM request \n",
    "    slurm = Slurm(\n",
    "        array=range(0,10),\n",
    "        cpus_per_task=8,\n",
    "        job_name='SNP_parallel',\n",
    "        output=f'{Slurm.JOB_NAME}_{Slurm.JOB_ARRAY_ID}.out',\n",
    "        time=datetime.timedelta(days=0, hours=0, minutes=3, seconds=0),\n",
    "    )\n",
    "    # Be careful, by default our system still loads python2 by default, and that won't work!\n",
    "    slurm.add_cmd('module load python3')\n",
    "\n",
    "    # Submit the SLURM batch request\n",
    "    slurm.sbatch('python SNP_compare_parallel.py '+outprefix+' '+df_file+' $SLURM_ARRAY_TASK_ID', Slurm.SLURM_ARRAY_TASK_ID)\n",
    "    \n",
    "    # Multiple files are generated in the Results folder with an individual pairwise comparison.\n",
    "    # We will concatenate them into a single dataframe and examine them further. \n",
    "    # But we have to wait until the slurm job is done!\n",
    "    wait(lambda: job_is_done(outprefix), timeout_seconds=600, waiting_for=\"slurm job to be done\")\n",
    "\n",
    "    result_files = []\n",
    "    for i in range(0,10):\n",
    "        df = pd.read_csv(outprefix+'/'+outprefix+\"_%s.csv\" %i, index_col = None, header = 0)\n",
    "        result_files.append(df)\n",
    "    \n",
    "    df_results = pd.concat(result_files, axis=0, ignore_index=True)\n",
    "    return(df_results)  \n"
   ]
  },
  {
   "cell_type": "markdown",
   "id": "ceramic-bumper",
   "metadata": {},
   "source": [
    "##### First, with the smaller slice of the dataset."
   ]
  },
  {
   "cell_type": "code",
   "execution_count": 23,
   "id": "paperback-weight",
   "metadata": {},
   "outputs": [],
   "source": [
    "outprefix = 'Results'\n",
    "if not os.path.exists(outprefix):\n",
    "    os.makedirs(outprefix)"
   ]
  },
  {
   "cell_type": "code",
   "execution_count": 24,
   "id": "quick-think",
   "metadata": {},
   "outputs": [
    {
     "name": "stderr",
     "output_type": "stream",
     "text": [
      "sbatch: Setting account: gems_learning\n"
     ]
    },
    {
     "name": "stdout",
     "output_type": "stream",
     "text": [
      "Submitted batch job 23854650\n",
      "\n",
      "CPU times: user 45.5 ms, sys: 9.42 ms, total: 55 ms\n",
      "Wall time: 3min 3s\n"
     ]
    }
   ],
   "source": [
    "%%time\n",
    "df_results = SNP_compare_slurm(outprefix=outprefix, df_file='df_slice.csv')"
   ]
  },
  {
   "cell_type": "code",
   "execution_count": 25,
   "id": "valuable-sterling",
   "metadata": {},
   "outputs": [
    {
     "data": {
      "text/plain": [
       "(19900, 5)"
      ]
     },
     "execution_count": 25,
     "metadata": {},
     "output_type": "execute_result"
    }
   ],
   "source": [
    "df_results.shape"
   ]
  },
  {
   "cell_type": "markdown",
   "id": "surprising-distribution",
   "metadata": {},
   "source": [
    "##### Now with the full dataset, which would have been prohibitively slow any other way!"
   ]
  },
  {
   "cell_type": "code",
   "execution_count": 26,
   "id": "median-hardwood",
   "metadata": {},
   "outputs": [],
   "source": [
    "outprefix = 'Results2'\n",
    "if not os.path.exists(outprefix):\n",
    "    os.makedirs(outprefix)"
   ]
  },
  {
   "cell_type": "code",
   "execution_count": 27,
   "id": "moral-screw",
   "metadata": {},
   "outputs": [
    {
     "name": "stderr",
     "output_type": "stream",
     "text": [
      "sbatch: Setting account: gems_learning\n"
     ]
    },
    {
     "name": "stdout",
     "output_type": "stream",
     "text": [
      "Submitted batch job 23854715\n",
      "\n",
      "CPU times: user 1.64 s, sys: 462 ms, total: 2.11 s\n",
      "Wall time: 4min 4s\n"
     ]
    }
   ],
   "source": [
    "%%time\n",
    "df_results = SNP_compare_slurm(outprefix=outprefix, df_file='/home/gems_learning/shared/hpc4ag/3k-core-v7-chr1/chr1_A_matrix.csv')"
   ]
  },
  {
   "cell_type": "code",
   "execution_count": 28,
   "id": "marine-carpet",
   "metadata": {},
   "outputs": [
    {
     "data": {
      "text/plain": [
       "(4570776, 5)"
      ]
     },
     "execution_count": 28,
     "metadata": {},
     "output_type": "execute_result"
    }
   ],
   "source": [
    "df_results.shape"
   ]
  },
  {
   "cell_type": "code",
   "execution_count": null,
   "id": "af46e96f-2b26-4c5b-bafb-f446cb5a7903",
   "metadata": {},
   "outputs": [],
   "source": []
  }
 ],
 "metadata": {
  "kernelspec": {
   "display_name": "Python 3 (ipykernel)",
   "language": "python",
   "name": "python3"
  },
  "language_info": {
   "codemirror_mode": {
    "name": "ipython",
    "version": 3
   },
   "file_extension": ".py",
   "mimetype": "text/x-python",
   "name": "python",
   "nbconvert_exporter": "python",
   "pygments_lexer": "ipython3",
   "version": "3.12.6"
  }
 },
 "nbformat": 4,
 "nbformat_minor": 5
}
