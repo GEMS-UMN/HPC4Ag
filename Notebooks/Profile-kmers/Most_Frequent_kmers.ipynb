{
 "cells": [
  {
   "cell_type": "markdown",
   "id": "90598d0c-eb6a-4e52-94c4-77b0bce95dec",
   "metadata": {},
   "source": [
    "# <B> Bioinformatics Algorithms Example"
   ]
  },
  {
   "cell_type": "markdown",
   "id": "ceb5687b-5bdb-437d-9cef-393f99d9297a",
   "metadata": {},
   "source": [
    "These exercies and examples are based on the book Bioinformatics Algorithms by Philip Compeau.\n",
    "You can find a free online copy of the book at this website- https://www.bioinformaticsalgorithms.org/"
   ]
  },
  {
   "cell_type": "markdown",
   "id": "ef0731b1-55d3-4fa7-8e94-323967391743",
   "metadata": {},
   "source": [
    "### A Brief Introduction\n",
    "As our first exercise, we will try to find the most frequently occuring k-mer in a given DNA string. <br>\n",
    "The larger idea is that regulatory sequences in DNA usually occur frequently within smaller substrings or lengths of DNA. This helps in identifying the regulatory regions and also important motifs within an organism's DNA. <br>\n",
    "It is now a well established fact that DNA, the genetic material in most organisms needs to replicate. This replication needs to begin somewhere. This region is called ori (short for origin) and characterized by the occurence of multiple repeats of patterns within a short length. This is essentially what k-mers are- a substring of length k within a biological sequence. In the context of DNA seuqnce analysis, these are primarily composed of the nucleotides A, T, G , and C. Finding frequently occuring k-mers and their distribution has multiple applications, such as assembling DNA sequences into genomes, finding elements important in replication to use in heterologous gene expression, identifying species in metagenomics analysis etc. It is thus an exercise encountered rather frequently in the bioinformatics realm."
   ]
  },
  {
   "cell_type": "markdown",
   "id": "50e0617e-ac0e-4713-bb4a-146e2a3787e0",
   "metadata": {},
   "source": [
    "### <B> First approach\n",
    "A simple approach would be to identify all the k-mers that occur in a string and then compute how many times each k-mer appears in the string as demonstrated below."
   ]
  },
  {
   "cell_type": "code",
   "execution_count": 22,
   "id": "0393db45-4e39-4f7f-a327-6cacf27e4e96",
   "metadata": {},
   "outputs": [],
   "source": [
    "# We use an inbuilt profiler for to check where the bottlenecks might be\n",
    "%load_ext line_profiler"
   ]
  },
  {
   "cell_type": "code",
   "execution_count": 23,
   "id": "7389230d-b872-4ad9-a3cf-138e16486271",
   "metadata": {},
   "outputs": [],
   "source": [
    "import cProfile"
   ]
  },
  {
   "cell_type": "code",
   "execution_count": 24,
   "id": "a771596b-7ece-4f44-915b-2c2b9525b2de",
   "metadata": {},
   "outputs": [],
   "source": [
    "def FrequentWords(Text, k):\n",
    "    '''\n",
    "    This function takes a string Text and a number k as input to find the \n",
    "    most frequently occuring substring of length k within Text.\n",
    "    It uses a sliding window approach to scan the Text and note each pattern of length k \n",
    "    and keeps count of every time the pattern is found subsequently in the string.\n",
    "    It returns the most frequently occuring k-mer string as output.\n",
    "    '''\n",
    "    FrequentPatterns = []\n",
    "    n = len(Text)\n",
    "    Count = [0] * (n-k+1)\n",
    "    \n",
    "    for i in range(n-k+1):\n",
    "        Pattern = Text[i: i+k]\n",
    "        Count[i] = PatternCount(Text, Pattern)\n",
    "    m = max(Count)\n",
    "    \n",
    "    for i in range(n-k+1):\n",
    "        if Count[i] == m:\n",
    "            FrequentPatterns.append(Text[i:i+k])\n",
    "    \n",
    "    #remove duplicates from FrequentPatterns\n",
    "    FrequentPatterns = list(set(FrequentPatterns))\n",
    "        \n",
    "    return FrequentPatterns\n",
    "\n",
    "\n",
    "def PatternCount(Text, Pattern):\n",
    "    '''\n",
    "    This function counts how many times the smaller substring Pattern occurs in the longer string Text \n",
    "    and returns the number count.\n",
    "    '''\n",
    "    count = 0\n",
    "    for i in range(len(Text)-len(Pattern)):\n",
    "        if Text[i:i+len(Pattern)] == Pattern:\n",
    "            count += 1\n",
    "            \n",
    "    return count"
   ]
  },
  {
   "cell_type": "markdown",
   "id": "943a4c89-a7f9-411c-b64b-9f7ae1cd074f",
   "metadata": {},
   "source": [
    "#### <B> 1. First example\n",
    "As an example, we use a short string below to find the most frequently occuring pemtamers "
   ]
  },
  {
   "cell_type": "code",
   "execution_count": 25,
   "id": "7acbccbc-6bff-4646-97b6-aff855464433",
   "metadata": {},
   "outputs": [
    {
     "name": "stdout",
     "output_type": "stream",
     "text": [
      "['ACTAT']\n"
     ]
    }
   ],
   "source": [
    "text = \"ACAACTATGCATACTATCGGGAACTATCCT\"\n",
    "k = 5\n",
    "print(FrequentWords(text,k))"
   ]
  },
  {
   "cell_type": "markdown",
   "id": "7be70a96-2594-43d2-a659-ad638de3a263",
   "metadata": {},
   "source": [
    "#### <B> 2. Second example\n",
    "In our second example, we use a slightly longer DNA sequence to find a longer k-mer"
   ]
  },
  {
   "cell_type": "code",
   "execution_count": 26,
   "id": "f47cb651-1884-4e0d-9825-8bd190cc4af1",
   "metadata": {},
   "outputs": [
    {
     "name": "stdout",
     "output_type": "stream",
     "text": [
      "['TAGATTGGTGCAG', 'GCGGAAGTAGATT', 'CGGAAGTAGATTG', 'ATTGGTGCAGATA', 'AGATTGGTGCAGA', 'GGAAGTAGATTGG', 'AGCGGAAGTAGAT', 'GATTGGTGCAGAT', 'GAAGTAGATTGGT']\n"
     ]
    }
   ],
   "source": [
    "T = \"TCTTTGGAAGGATTTTTAGGATTTTTAGCGGAAGAGCGGAAGTAGATTGGTAGGATTTTTTCTTTGGAAGCGGAAGTCTTTGGATAGATTGGTAGGATTTTTAGCGGAAGGCAGATAGCAGATATCTTTGGATAGATTGGTGCAGATATAGATTGGTGCAGATATCTTTGGAGCAGATAGCAGATATAGATTGGTTAGATTGGTGCAGATAAGGATTTTTTAGATTGGTTAGATTGGTAGGATTTTTGCAGATAAGGATTTTTTAGATTGGTTAGATTGGTGCAGATAGCAGATAAGCGGAAGGCAGATAGCAGATAAGGATTTTTTAGATTGGTAGCGGAAGTAGATTGGTAGCGGAAGAGCGGAAGTAGATTGGTAGCGGAAGTAGATTGGTGCAGATAAGGATTTTTAGGATTTTTTCTTTGGATAGATTGGTTCTTTGGAAGGATTTTTAGGATTTTTTAGATTGGTGCAGATATAGATTGGTTCTTTGGAAGCGGAAGAGCGGAAGAGCGGAAGTAGATTGGTTCTTTGGAAGCGGAAGAGCGGAAGTCTTTGGAAGCGGAAGTAGATTGGTAGGATTTTTAGGATTTTTTCTTTGGAGCAGATATCTTTGGAAGGATTTTTGCAGATATAGATTGGTGCAGATATCTTTGGAAGGATTTTTAGCGGAAGTCTTTGGAGCAGATAAGGATTTTTTCTTTGGAAGGATTTTTTAGATTGGTAGCGGAAGTCTTTGGATCTTTGGAAGCGGAAGTCTTTGGATAGATTGGTTAGATTGGTAGCGGAAGAGGATTTTTGCAGATATCTTTGGATAGATTGGTAGCGGAAGGCAGATATCTTTGGAAGCGGAAGTAGATTGGTAGGATTTTTTCTTTGGAGCAGATA\"\n",
    "k = 13\n",
    "print(FrequentWords(T,k))"
   ]
  },
  {
   "cell_type": "markdown",
   "id": "21f837ad-064d-47c9-a464-1d2e2a210d1e",
   "metadata": {},
   "source": [
    "As you can see, our function actually returns multiple k-mers corresponding to the highest count."
   ]
  },
  {
   "cell_type": "markdown",
   "id": "c9612c6d-cf34-4974-a2fe-7d36454bef98",
   "metadata": {},
   "source": [
    "#### <B> 3. Profiling the code"
   ]
  },
  {
   "cell_type": "code",
   "execution_count": 27,
   "id": "53b0c28f-2657-47d0-8351-44ab3aba0b88",
   "metadata": {},
   "outputs": [
    {
     "data": {
      "text/plain": [
       "Timer unit: 1e-09 s\n",
       "\n",
       "Total time: 0.105749 s\n",
       "File: /tmp/ipykernel_6553/3726784926.py\n",
       "Function: FrequentWords at line 1\n",
       "\n",
       "Line #      Hits         Time  Per Hit   % Time  Line Contents\n",
       "==============================================================\n",
       "     1                                           def FrequentWords(Text, k):\n",
       "     2                                               '''\n",
       "     3                                               This function takes a string Text and a number k as input to find the \n",
       "     4                                               most frequently occuring substring of length k within Text.\n",
       "     5                                               It uses a sliding window approach to scan the Text and note each pattern of length k \n",
       "     6                                               and keeps count of every time the pattern is found subsequently in the string.\n",
       "     7                                               It returns the most frequently occuring k-mer string as output.\n",
       "     8                                               '''\n",
       "     9         1        510.0    510.0      0.0      FrequentPatterns = []\n",
       "    10         1        296.0    296.0      0.0      n = len(Text)\n",
       "    11         1       1169.0   1169.0      0.0      Count = [0] * (n-k+1)\n",
       "    12                                               \n",
       "    13       877     110229.0    125.7      0.1      for i in range(n-k+1):\n",
       "    14       876     125569.0    143.3      0.1          Pattern = Text[i: i+k]\n",
       "    15       876  105305360.0 120211.6     99.6          Count[i] = PatternCount(Text, Pattern)\n",
       "    16         1       7850.0   7850.0      0.0      m = max(Count)\n",
       "    17                                               \n",
       "    18       877      92155.0    105.1      0.1      for i in range(n-k+1):\n",
       "    19       876      85121.0     97.2      0.1          if Count[i] == m:\n",
       "    20        63      14296.0    226.9      0.0              FrequentPatterns.append(Text[i:i+k])\n",
       "    21                                               \n",
       "    22                                               #remove duplicates from FrequentPatterns\n",
       "    23         1       5427.0   5427.0      0.0      FrequentPatterns = list(set(FrequentPatterns))\n",
       "    24                                                   \n",
       "    25         1        848.0    848.0      0.0      return FrequentPatterns"
      ]
     },
     "metadata": {},
     "output_type": "display_data"
    }
   ],
   "source": [
    "%lprun -f FrequentWords FrequentWords(T, k)"
   ]
  },
  {
   "cell_type": "markdown",
   "id": "365e9d25-4a4a-4761-969b-908737a33636",
   "metadata": {},
   "source": [
    "#### <B> Discussion\n",
    "Although this approach works alright for such a small string of DNA, it is most likely to get clunky and slow on strings of much larger size which one is more likely to encounter while analyzing real world problems. <br>\n",
    "Each call to the <I>PatternCount</I> checks if the pattern matches the substring at position 0, 1 and so on till the end of the string Text. This results in $|Text|-k+1$ comparisons for every k-mer in the string, and the higher level function <I> FrequentWords </I> calls this function for each k-mer of the Text, resulting in $(|Text|-k+1).(|Text|-k+1).k$ steps. This means that the complexity of the function <I>FrequentWords</I> becomes $O(|Text|^{2}.k)$. You can actually observe this phenomenon in our code profile above, where the calls to the function <I>PatternCount</I> are indeed very high and this step takes up 99.6% of the computation time. <br>\n",
    "\n",
    "Now imagine working with a DNA string millions of base pairs in length, and the magnitude of the complexity quickly becomes very daunting.\n",
    "We must thus look for a better solution!"
   ]
  },
  {
   "cell_type": "markdown",
   "id": "718d6a22-2379-4f73-80e6-4c1726f8d947",
   "metadata": {},
   "source": [
    "### <B> A Different Approach to the same problem"
   ]
  },
  {
   "cell_type": "markdown",
   "id": "f8554982-fd5d-4bd5-be70-57fa87bbcb10",
   "metadata": {},
   "source": [
    "We can tackle the same problem by using dictionaries to help keep count of the number of times each k-mer is encountered in a text string, or in short, generate a frequency table for all unique kmers, and then call out the ones with maximum number of occurences. This way, we only slide the window once down the entire length of the text bringing the complexity down to $O(|Text|)$."
   ]
  },
  {
   "cell_type": "code",
   "execution_count": 32,
   "id": "18d5411d-7bb9-49be-a34a-7b16ddbe9ed3",
   "metadata": {},
   "outputs": [],
   "source": [
    "def BetterFrequentWords(Text, k):\n",
    "    '''\n",
    "    This function takes a string Text and an integer k as input \n",
    "    and returns the most frequently occuring substring k.\n",
    "    It uses the FrequencyTable and MaxMap subroutines to generate \n",
    "    a dictionary of k-mers and their count, and to find the maximum value.\n",
    "    It returns a list of k-mers corresponding to the maximum value.\n",
    "    '''\n",
    "    FrequentPatterns = []\n",
    "    freqMap = FrequencyTable(Text, k)\n",
    "    maxval = MaxMap(freqMap)\n",
    "    for k,v in freqMap.items():\n",
    "        if v == maxval:\n",
    "            FrequentPatterns.append(k)\n",
    "            \n",
    "    return FrequentPatterns\n",
    "\t\t\n",
    "def MaxMap(freqmap):\n",
    "    '''\n",
    "    Takes a dictionary freqmap as input and returns \n",
    "    the maximum value in the dictionary.\n",
    "    '''\n",
    "    maxvalue = max(freqmap.values())\n",
    "    return maxvalue\n",
    "\t\n",
    "\n",
    "def FrequencyTable(Text, k):\n",
    "    '''\n",
    "    It takes a string Text and an integer k as input.\n",
    "    Generates a dictionary using k-mers as keys and \n",
    "    increments the value every time the k-mer is present in the string Text.\n",
    "    Returns this dictionary.\n",
    "    '''\n",
    "    freqMap = {}\n",
    "    n = len(Text)\n",
    "    for i in range(n-k):\n",
    "        pattern = Text[i:i+k]\n",
    "        if pattern in freqMap.keys():\n",
    "            freqMap[pattern] += 1\n",
    "        else:\n",
    "            freqMap[pattern] = 1\n",
    "    return freqMap"
   ]
  },
  {
   "cell_type": "markdown",
   "id": "78c2e2c7-f5e1-4236-944d-cb7a3c9fe9e0",
   "metadata": {},
   "source": [
    "#### <B> 1. First example\n",
    "We use the same example as before to test that our code actually works"
   ]
  },
  {
   "cell_type": "code",
   "execution_count": 33,
   "id": "9ccb1507-6fed-439f-bea9-2275c7749c7a",
   "metadata": {},
   "outputs": [
    {
     "name": "stdout",
     "output_type": "stream",
     "text": [
      "['ACTAT']\n"
     ]
    }
   ],
   "source": [
    "text = \"ACAACTATGCATACTATCGGGAACTATCCT\"\n",
    "k = 5\n",
    "print(BetterFrequentWords(text,k))"
   ]
  },
  {
   "cell_type": "markdown",
   "id": "eb40a1a7-631e-4254-bf63-a9369de28bfb",
   "metadata": {},
   "source": [
    "#### <B> 2. Second Example\n",
    "Then we look at the other example with longer text and k-mer"
   ]
  },
  {
   "cell_type": "code",
   "execution_count": 34,
   "id": "9cee1f4a-93fe-4c96-8a83-03f1ef9f9fbd",
   "metadata": {},
   "outputs": [
    {
     "name": "stdout",
     "output_type": "stream",
     "text": [
      "['AGCGGAAGTAGAT', 'GCGGAAGTAGATT', 'CGGAAGTAGATTG', 'GGAAGTAGATTGG', 'GAAGTAGATTGGT', 'TAGATTGGTGCAG', 'AGATTGGTGCAGA', 'GATTGGTGCAGAT', 'ATTGGTGCAGATA']\n"
     ]
    }
   ],
   "source": [
    "T = \"TCTTTGGAAGGATTTTTAGGATTTTTAGCGGAAGAGCGGAAGTAGATTGGTAGGATTTTTTCTTTGGAAGCGGAAGTCTTTGGATAGATTGGTAGGATTTTTAGCGGAAGGCAGATAGCAGATATCTTTGGATAGATTGGTGCAGATATAGATTGGTGCAGATATCTTTGGAGCAGATAGCAGATATAGATTGGTTAGATTGGTGCAGATAAGGATTTTTTAGATTGGTTAGATTGGTAGGATTTTTGCAGATAAGGATTTTTTAGATTGGTTAGATTGGTGCAGATAGCAGATAAGCGGAAGGCAGATAGCAGATAAGGATTTTTTAGATTGGTAGCGGAAGTAGATTGGTAGCGGAAGAGCGGAAGTAGATTGGTAGCGGAAGTAGATTGGTGCAGATAAGGATTTTTAGGATTTTTTCTTTGGATAGATTGGTTCTTTGGAAGGATTTTTAGGATTTTTTAGATTGGTGCAGATATAGATTGGTTCTTTGGAAGCGGAAGAGCGGAAGAGCGGAAGTAGATTGGTTCTTTGGAAGCGGAAGAGCGGAAGTCTTTGGAAGCGGAAGTAGATTGGTAGGATTTTTAGGATTTTTTCTTTGGAGCAGATATCTTTGGAAGGATTTTTGCAGATATAGATTGGTGCAGATATCTTTGGAAGGATTTTTAGCGGAAGTCTTTGGAGCAGATAAGGATTTTTTCTTTGGAAGGATTTTTTAGATTGGTAGCGGAAGTCTTTGGATCTTTGGAAGCGGAAGTCTTTGGATAGATTGGTTAGATTGGTAGCGGAAGAGGATTTTTGCAGATATCTTTGGATAGATTGGTAGCGGAAGGCAGATATCTTTGGAAGCGGAAGTAGATTGGTAGGATTTTTTCTTTGGAGCAGATA\"\n",
    "k = 13\n",
    "print(BetterFrequentWords(T,k))"
   ]
  },
  {
   "cell_type": "markdown",
   "id": "18c21474-5040-4138-8035-cd28bdf4d45d",
   "metadata": {},
   "source": [
    "#### <B> 3. Profiling\n",
    "No we profile the code once again to see if we got id of the bottle neck and compare the efficiency"
   ]
  },
  {
   "cell_type": "code",
   "execution_count": 35,
   "id": "72a0bc3e-6b67-4c18-b8ac-6ee51aeb9ea0",
   "metadata": {},
   "outputs": [
    {
     "data": {
      "text/plain": [
       "Timer unit: 1e-09 s\n",
       "\n",
       "Total time: 0.00031193 s\n",
       "File: /tmp/ipykernel_6553/3418861718.py\n",
       "Function: BetterFrequentWords at line 1\n",
       "\n",
       "Line #      Hits         Time  Per Hit   % Time  Line Contents\n",
       "==============================================================\n",
       "     1                                           def BetterFrequentWords(Text, k):\n",
       "     2                                               '''\n",
       "     3                                               This function takes a string Text and an integer k as input \n",
       "     4                                               and returns the most frequently occuring substring k.\n",
       "     5                                               It uses the FrequencyTable and MaxMap subroutines to generate \n",
       "     6                                               a dictionary of k-mers and their count, and to find the maximum value.\n",
       "     7                                               It returns a list of k-mers corresponding to the maximum value.\n",
       "     8                                               '''\n",
       "     9         1        463.0    463.0      0.1      FrequentPatterns = []\n",
       "    10         1     236322.0 236322.0     75.8      freqMap = FrequencyTable(Text, k)\n",
       "    11         1       4587.0   4587.0      1.5      maxval = MaxMap(freqMap)\n",
       "    12       359      37387.0    104.1     12.0      for k,v in freqMap.items():\n",
       "    13       358      31677.0     88.5     10.2          if v == maxval:\n",
       "    14         9       1161.0    129.0      0.4              FrequentPatterns.append(k)\n",
       "    15                                                       \n",
       "    16         1        333.0    333.0      0.1      return FrequentPatterns"
      ]
     },
     "metadata": {},
     "output_type": "display_data"
    }
   ],
   "source": [
    "%lprun -f BetterFrequentWords BetterFrequentWords(T, k)"
   ]
  },
  {
   "cell_type": "markdown",
   "id": "9c72559f-b182-4b0c-9422-2f77400f2273",
   "metadata": {},
   "source": [
    "#### <B> Discussion\n",
    "Look at that! We have already made this function about 300 times faster than the first one. And as you can see, the number of calls made to the subroutine <I>FrequencyTable</I> are much lower than the calls to <I>PatternCount</I> in the previous function. <br>\n",
    "Now if you wanted to make this even faster, you know that the answer lies in making the <I>FrequencyTable</I> function more efficient."
   ]
  },
  {
   "cell_type": "code",
   "execution_count": null,
   "id": "b14a8337-f6a8-423e-bfb8-343a80020532",
   "metadata": {},
   "outputs": [],
   "source": []
  }
 ],
 "metadata": {
  "kernelspec": {
   "display_name": "Python 3 (ipykernel)",
   "language": "python",
   "name": "python3"
  },
  "language_info": {
   "codemirror_mode": {
    "name": "ipython",
    "version": 3
   },
   "file_extension": ".py",
   "mimetype": "text/x-python",
   "name": "python",
   "nbconvert_exporter": "python",
   "pygments_lexer": "ipython3",
   "version": "3.12.3"
  }
 },
 "nbformat": 4,
 "nbformat_minor": 5
}
